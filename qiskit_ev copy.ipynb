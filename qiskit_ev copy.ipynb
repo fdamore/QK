{
 "cells": [
  {
   "cell_type": "code",
   "execution_count": 7,
   "metadata": {},
   "outputs": [],
   "source": [
    "#qiskit\n",
    "from qiskit import QuantumCircuit\n",
    "from qiskit.quantum_info import SparsePauliOp\n",
    "from qiskit.transpiler.preset_passmanagers import generate_preset_pass_manager\n",
    "from qiskit_aer.primitives import EstimatorV2 as Estimator\n",
    "from qiskit_ibm_runtime.fake_provider import FakeHanoiV2, FakeHanoi\n",
    "from qiskit_aer.noise import NoiseModel\n"
   ]
  },
  {
   "cell_type": "code",
   "execution_count": 8,
   "metadata": {},
   "outputs": [],
   "source": [
    "#define backend for simulation (IF NEEDED)\n",
    "#QiskitRuntimeService.save_account(channel=\"ibm_quantum\", token=\"69dd0a8e90fc66879bc4c330707cd7acf406f659f919d4751794b2fe1c40cc45c4ee341aa791ae11115b1338bfcb158affcc5e99c8aa11c92469605fa72c8a81\", set_as_default=True)"
   ]
  },
  {
   "cell_type": "code",
   "execution_count": 9,
   "metadata": {},
   "outputs": [
    {
     "data": {
      "image/png": "[encoded data removed]",
      "text/plain": [
       "<Figure size 287.496x535.111 with 1 Axes>"
      ]
     },
     "execution_count": 9,
     "metadata": {},
     "output_type": "execute_result"
    }
   ],
   "source": [
    "# Create a new circuit with two qubits\n",
    "qc = QuantumCircuit(6)\n",
    " \n",
    "# Add a Hadamard gate to qubit 0\n",
    "qc.h(0)\n",
    "qc.h(1)\n",
    "qc.h(2)\n",
    "qc.h(3)\n",
    "qc.h(4)\n",
    "qc.h(5)\n",
    " \n",
    "# Perform a controlled-X gate on qubit 1, controlled by qubit 0\n",
    "qc.cx(0, 1)\n",
    " \n",
    "# Return a drawing of the circuit using MatPlotLib (\"mpl\"). This is the\n",
    "# last line of the cell, so the drawing appears in the cell output.\n",
    "# Remove the \"mpl\" argument to get a text drawing.\n",
    "qc.draw(\"mpl\")"
   ]
  },
  {
   "cell_type": "code",
   "execution_count": 11,
   "metadata": {},
   "outputs": [
    {
     "name": "stdout",
     "output_type": "stream",
     "text": [
      "  > Observables: ['ZIIIII', 'IZIIII']\n",
      "  > Expectation value: [0. 0.]\n",
      "  > Metadata: {'target_precision': 0.0, 'simulator_metadata': {'time_taken_parameter_binding': 8.273e-06, 'time_taken_execute': 8.8143e-05, 'omp_enabled': True, 'max_gpu_memory_mb': 0, 'max_memory_mb': 15588, 'parallel_experiments': 1}}\n"
     ]
    }
   ],
   "source": [
    "# Set up six different observables.\n",
    "#observables_labels = [\"ZZ\", \"ZI\", \"IZ\", \"XX\", \"XI\"]\n",
    "observables_labels = [\"ZIIIII\",\"IZIIII\"]\n",
    "#observables_labels = [\"IZ\"]\n",
    "observables = [SparsePauliOp(label) for label in observables_labels]\n",
    "\n",
    "# Construct the Estimator instance we want to use.\n",
    "\n",
    "\n",
    "\n",
    "#noisy_backend = FakeHanoi()\n",
    "#self.name+=str(noisy_backend)\n",
    "#coupling_map = noisy_backend.configuration().coupling_map\n",
    "#noise_model = NoiseModel.from_backend(noisy_backend)\n",
    "#self.backend = qiskit_aer.aerprovider.AerProvider()\n",
    "#estimator = Estimator(\n",
    "#    backend_options={\n",
    "#        \"method\": 'automatic', #\"density_matrix\",\"density_matrix\",\n",
    "#        \"coupling_map\": coupling_map,\n",
    "#        \"noise_model\": noise_model,\n",
    "#        \"device\": None #device\n",
    "#    },\n",
    "#    run_options={\"seed\": None},  # , \"shots\": 1024},\n",
    "#    transpile_options={\"seed_transpiler\": None}\n",
    "#)\n",
    "\n",
    "estimator = Estimator()\n",
    "\n",
    "\n",
    "#estimator.options.resilience_level = 1\n",
    "estimator.options.default_shots = 5000\n",
    "\n",
    " \n",
    "observables = [\n",
    "    observable.apply_layout(qc.layout) for observable in observables\n",
    "]\n",
    " \n",
    "# One pub, with one circuit to run against five different observables.\n",
    "job = estimator.run([(qc, observables)])\n",
    " \n",
    "# This is the result of the entire submission.  We submitted one Pub,\n",
    "# so this contains one inner result (and some metadata of its own).\n",
    "job_result = job.result()\n",
    " \n",
    "# This is the result from our single pub, which had five observables,\n",
    "# so contains information on all five.\n",
    "pub_result = job.result()[0]\n",
    "\n",
    "print(f\"  > Observables: {observables_labels}\")\n",
    "print(f\"  > Expectation value: {job_result[0].data.evs}\")\n",
    "print(f\"  > Metadata: {job_result[0].metadata}\")"
   ]
  }
 ],
 "metadata": {
  "kernelspec": {
   "display_name": ".venv",
   "language": "python",
   "name": "python3"
  },
  "language_info": {
   "codemirror_mode": {
    "name": "ipython",
    "version": 3
   },
   "file_extension": ".py",
   "mimetype": "text/x-python",
   "name": "python",
   "nbconvert_exporter": "python",
   "pygments_lexer": "ipython3",
   "version": "3.11.6"
  }
 },
 "nbformat": 4,
 "nbformat_minor": 2
}
