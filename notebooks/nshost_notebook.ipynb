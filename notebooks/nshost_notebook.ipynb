{
 "cells": [
  {
   "cell_type": "code",
   "execution_count": null,
   "id": "e03ece22-77c1-4833-86a4-fbc66df102eb",
   "metadata": {},
   "outputs": [],
   "source": [
    "%load_ext autoreload\n",
    "%autoreload 2"
   ]
  },
  {
   "cell_type": "code",
   "execution_count": 14,
   "id": "c45d437b-fe22-4207-8bc5-efccf5e5ae1c",
   "metadata": {
    "tags": []
   },
   "outputs": [
    {
     "name": "stdout",
     "output_type": "stream",
     "text": [
      "Main dir: /home/jupyter/git/QK\n"
     ]
    }
   ],
   "source": [
    "#needed to import qke procedures\n",
    "import sys\n",
    "from pathlib import Path\n",
    "\n",
    "main_dir = str(Path().resolve().parent)\n",
    "sys.path.insert(1, main_dir)\n",
    "\n",
    "print(f'Main dir: {main_dir}')"
   ]
  },
  {
   "cell_type": "code",
   "execution_count": 32,
   "id": "e37efa29-fe06-479d-a9c6-670c5d3e5070",
   "metadata": {
    "tags": []
   },
   "outputs": [],
   "source": [
    "import datetime\n",
    "import sys\n",
    "import os\n",
    "import time\n",
    "import pandas as pd\n",
    "from sklearn.model_selection import train_test_split\n",
    "from sklearn.metrics import accuracy_score\n",
    "import numpy as np\n",
    "from qiskit_algorithms.utils import algorithm_globals\n",
    "from pqk.PQK_SVC_PE import PQK_SVC_PE\n",
    "from pqk.PQK_SVC import PQK_SVC\n",
    "from pqk.Circuits import Circuits\n",
    "from pqk.QMeasures import QMeasures\n",
    "from pqk.CKernels import CKernels"
   ]
  },
  {
   "cell_type": "code",
   "execution_count": 23,
   "id": "74427679-849d-4887-9dd0-8ffd6aef7032",
   "metadata": {
    "tags": []
   },
   "outputs": [
    {
     "name": "stdout",
     "output_type": "stream",
     "text": [
      "File used for this run: ../data/env.sel3.sk_sc.csv\n",
      "Fraction rate used for this run: 1.0%\n",
      "Shape of dataset: (29, 7)\n",
      "Training shape dataset (21, 6)\n",
      "Label for traing (21,)\n",
      "Test shape dataset (8, 6)\n",
      "Label for test (8,)\n"
     ]
    }
   ],
   "source": [
    "#quantum stuff: observable, circuit to encoding and number type of function used to measure that uses shots\n",
    "my_obs = ['XIIIII', 'IXIIII','IIXIII', 'IIIXII','IIIIXI','IIIIIX',\n",
    "          'YIIIII', 'IYIIII','IIYIII', 'IIIYII','IIIIYI','IIIIIY',\n",
    "          'ZIIIII', 'IZIIII','IIZIII', 'IIIZII','IIIIZI','IIIIIZ']\n",
    "q_c = Circuits.xyz_encoded(full_ent=False, n_wire=6)\n",
    "\n",
    "#load dataset with panda\n",
    "#data are scaled outside the notebook\n",
    "f_rate = 0.01 #rate of data sampling fot testing pourpose\n",
    "data_file_csv = '../data/env.sel3.sk_sc.csv'\n",
    "env = pd.read_csv(data_file_csv).sample(frac=f_rate, random_state=123)  \n",
    "\n",
    "#DEFINE design matrix\n",
    "Y = env['occupancy']\n",
    "X = env[['illuminance', 'blinds','lamps','rh', 'co2', 'temp']]\n",
    "\n",
    "\n",
    "#split design matrix (25% of the design matrix used for test)\n",
    "X_train, X_test, y_train, y_test = train_test_split(X, Y, random_state=123)\n",
    "#WARNING: convert data to numpy. Quantum stuff (Qiskit) do not like PANDAS\n",
    "X_train_np = X_train.to_numpy()\n",
    "y_train_np = y_train.to_numpy()\n",
    "\n",
    "X_test_np = X_test.to_numpy()\n",
    "y_test_np = y_test.to_numpy()\n",
    "\n",
    "#check the shape of test and training dataset\n",
    "print(f'File used for this run: {data_file_csv}')\n",
    "print(f'Fraction rate used for this run: {f_rate * 100}%')\n",
    "print(f'Shape of dataset: {env.shape}')\n",
    "print(f'Training shape dataset {X_train_np.shape}')\n",
    "print(f'Label for traing {y_train_np.shape}')\n",
    "print(f'Test shape dataset {X_test_np.shape}')\n",
    "print(f'Label for test {y_test_np.shape}')"
   ]
  },
  {
   "cell_type": "code",
   "execution_count": 36,
   "id": "891a97a1-b34c-4bc8-804f-7f91c852db2f",
   "metadata": {
    "tags": []
   },
   "outputs": [
    {
     "name": "stdout",
     "output_type": "stream",
     "text": [
      "Final time 4.210016965866089 seconds\n"
     ]
    }
   ],
   "source": [
    "#set the seed\n",
    "np.random.seed(123)\n",
    "algorithm_globals.random_seed = 123\n",
    "\n",
    "#deinf the number of the shots\n",
    "n_shots_list = range(10,50,10)\n",
    "\n",
    "#get time\n",
    "t_start = time.time()\n",
    "\n",
    "list_score = []\n",
    "\n",
    "for n_shot_ in n_shots_list:\n",
    "    # Best paramenter: {'C': 32.0, 'gamma': 0.01}\n",
    "    #pqk = PQK_SVC(C=32, gamma=0.01, circuit=q_c, obs=my_obs, c_kernel=CKernels.rbf, nshots=n_shot_)\n",
    "    pqk = PQK_SVC(C=32, gamma=0.01, circuit=q_c, obs=my_obs, c_kernel=CKernels.rbf)\n",
    "    \n",
    "    svm_quantum = pqk.fit(X_train_np, y_train_np)\n",
    "    #result...\n",
    "    predictions = svm_quantum.predict(X_test_np)\n",
    "    score = accuracy_score(predictions, y_test)\n",
    "\n",
    "    list_score.append(score)\n",
    "\n",
    "    \n",
    "#get time training\n",
    "t_training = time.time()\n",
    "\n",
    "\n",
    "#final time (trainign + predict)\n",
    "t_final = time.time()\n",
    "\n",
    "\n",
    "print(f'Final time {t_final - t_start} seconds')\n",
    "\n",
    "#save info.\n",
    "np.savetxt(os.path.join(main_dir, \"nhsots.txt\"), np.array(n_shots_list))\n",
    "np.savetxt(os.path.join(main_dir, \"scores.txt\"), np.array(list_score))\n"
   ]
  },
  {
   "cell_type": "code",
   "execution_count": null,
   "id": "3d2f9cbd-ffc1-4f14-91e6-11661563951c",
   "metadata": {},
   "outputs": [],
   "source": []
  }
 ],
 "metadata": {
  "environment": {
   "kernel": "conda-base-py",
   "name": "workbench-notebooks.m127",
   "type": "gcloud",
   "uri": "us-docker.pkg.dev/deeplearning-platform-release/gcr.io/workbench-notebooks:m127"
  },
  "kernelspec": {
   "display_name": "Python 3 (ipykernel)",
   "language": "python",
   "name": "conda-base-py"
  },
  "language_info": {
   "codemirror_mode": {
    "name": "ipython",
    "version": 3
   },
   "file_extension": ".py",
   "mimetype": "text/x-python",
   "name": "python",
   "nbconvert_exporter": "python",
   "pygments_lexer": "ipython3",
   "version": "3.10.16"
  }
 },
 "nbformat": 4,
 "nbformat_minor": 5
}
