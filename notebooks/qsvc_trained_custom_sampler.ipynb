{
 "cells": [
  {
   "cell_type": "markdown",
   "metadata": {},
   "source": [
    "USING QSVC IN ORDER TO TEST STANDARD QUANTUM KERNEL APPROACH"
   ]
  },
  {
   "cell_type": "code",
   "execution_count": 2,
   "metadata": {
    "ExecuteTime": {
     "end_time": "2024-06-12T12:16:14.821411300Z",
     "start_time": "2024-06-12T12:16:14.759663700Z"
    }
   },
   "outputs": [],
   "source": [
    "#needed to import qke procedures\n",
    "import sys\n",
    "from pathlib import Path\n",
    "\n",
    "main_dir = str(Path().resolve().parent)\n",
    "sys.path.insert(1, main_dir)"
   ]
  },
  {
   "cell_type": "code",
   "execution_count": 3,
   "metadata": {
    "ExecuteTime": {
     "end_time": "2024-06-12T12:16:27.107731600Z",
     "start_time": "2024-06-12T12:16:17.235982300Z"
    }
   },
   "outputs": [],
   "source": [
    "#scikit learn and tools\n",
    "import pandas as pd\n",
    "from sklearn.model_selection import train_test_split\n",
    "from sklearn.metrics import accuracy_score\n",
    "import numpy as np"
   ]
  },
  {
   "cell_type": "code",
   "execution_count": 4,
   "metadata": {
    "ExecuteTime": {
     "end_time": "2024-06-12T12:16:27.212540600Z",
     "start_time": "2024-06-12T12:16:27.107926200Z"
    }
   },
   "outputs": [
    {
     "data": {
      "text/plain": "        illuminance       blinds        lamps           rh           co2  \\\ncount  2.865000e+03  2865.000000  2865.000000  2865.000000  2.865000e+03   \nmean  -3.571314e-16     0.801622     0.596464     0.473229 -5.952190e-16   \nstd    1.000000e+00     0.372305     0.489316     0.080185  1.000000e+00   \nmin   -1.016287e+00     0.000000     0.000000     0.243300 -1.222685e+00   \n25%   -8.575745e-01     1.000000     0.000000     0.433700 -8.492006e-01   \n50%   -6.989177e-02     1.000000     1.000000     0.491100 -3.252814e-01   \n75%    3.357060e-01     1.000000     1.000000     0.524100  7.569402e-01   \nmax    8.559349e+00     1.000000     1.000000     0.633300  3.583699e+00   \n\n               temp    occupancy  \ncount  2.865000e+03  2865.000000  \nmean  -7.142629e-16    -0.130192  \nstd    1.000000e+00     0.991662  \nmin   -1.774534e+00    -1.000000  \n25%   -8.538436e-01    -1.000000  \n50%   -1.940149e-01    -1.000000  \n75%    7.266751e-01     1.000000  \nmax    2.614091e+00     1.000000  ",
      "text/html": "<div>\n<style scoped>\n    .dataframe tbody tr th:only-of-type {\n        vertical-align: middle;\n    }\n\n    .dataframe tbody tr th {\n        vertical-align: top;\n    }\n\n    .dataframe thead th {\n        text-align: right;\n    }\n</style>\n<table border=\"1\" class=\"dataframe\">\n  <thead>\n    <tr style=\"text-align: right;\">\n      <th></th>\n      <th>illuminance</th>\n      <th>blinds</th>\n      <th>lamps</th>\n      <th>rh</th>\n      <th>co2</th>\n      <th>temp</th>\n      <th>occupancy</th>\n    </tr>\n  </thead>\n  <tbody>\n    <tr>\n      <th>count</th>\n      <td>2.865000e+03</td>\n      <td>2865.000000</td>\n      <td>2865.000000</td>\n      <td>2865.000000</td>\n      <td>2.865000e+03</td>\n      <td>2.865000e+03</td>\n      <td>2865.000000</td>\n    </tr>\n    <tr>\n      <th>mean</th>\n      <td>-3.571314e-16</td>\n      <td>0.801622</td>\n      <td>0.596464</td>\n      <td>0.473229</td>\n      <td>-5.952190e-16</td>\n      <td>-7.142629e-16</td>\n      <td>-0.130192</td>\n    </tr>\n    <tr>\n      <th>std</th>\n      <td>1.000000e+00</td>\n      <td>0.372305</td>\n      <td>0.489316</td>\n      <td>0.080185</td>\n      <td>1.000000e+00</td>\n      <td>1.000000e+00</td>\n      <td>0.991662</td>\n    </tr>\n    <tr>\n      <th>min</th>\n      <td>-1.016287e+00</td>\n      <td>0.000000</td>\n      <td>0.000000</td>\n      <td>0.243300</td>\n      <td>-1.222685e+00</td>\n      <td>-1.774534e+00</td>\n      <td>-1.000000</td>\n    </tr>\n    <tr>\n      <th>25%</th>\n      <td>-8.575745e-01</td>\n      <td>1.000000</td>\n      <td>0.000000</td>\n      <td>0.433700</td>\n      <td>-8.492006e-01</td>\n      <td>-8.538436e-01</td>\n      <td>-1.000000</td>\n    </tr>\n    <tr>\n      <th>50%</th>\n      <td>-6.989177e-02</td>\n      <td>1.000000</td>\n      <td>1.000000</td>\n      <td>0.491100</td>\n      <td>-3.252814e-01</td>\n      <td>-1.940149e-01</td>\n      <td>-1.000000</td>\n    </tr>\n    <tr>\n      <th>75%</th>\n      <td>3.357060e-01</td>\n      <td>1.000000</td>\n      <td>1.000000</td>\n      <td>0.524100</td>\n      <td>7.569402e-01</td>\n      <td>7.266751e-01</td>\n      <td>1.000000</td>\n    </tr>\n    <tr>\n      <th>max</th>\n      <td>8.559349e+00</td>\n      <td>1.000000</td>\n      <td>1.000000</td>\n      <td>0.633300</td>\n      <td>3.583699e+00</td>\n      <td>2.614091e+00</td>\n      <td>1.000000</td>\n    </tr>\n  </tbody>\n</table>\n</div>"
     },
     "execution_count": 4,
     "metadata": {},
     "output_type": "execute_result"
    }
   ],
   "source": [
    "#load dataset with panda\n",
    "#data are scaled outside the notebook\n",
    "env = pd.read_csv('../data/env.sel3.scaled.csv') \n",
    "#take a look of the dataset\n",
    "env.describe() "
   ]
  },
  {
   "cell_type": "code",
   "execution_count": 5,
   "metadata": {
    "ExecuteTime": {
     "end_time": "2024-06-12T12:16:29.761790500Z",
     "start_time": "2024-06-12T12:16:29.737557600Z"
    }
   },
   "outputs": [
    {
     "data": {
      "text/plain": "      illuminance  blinds  lamps      rh       co2      temp\n1448     0.788330    1.00    1.0  0.4801 -0.516106  0.071962\n1670    -0.969261    1.00    0.0  0.5350  0.006089 -0.894763\n1326    -0.187456    0.14    1.0  0.4386  0.122567  0.859664\n2387     0.006525    1.00    1.0  0.6138  0.472418 -0.194015\n2378    -0.034622    1.00    1.0  0.6193  1.170405 -0.194015",
      "text/html": "<div>\n<style scoped>\n    .dataframe tbody tr th:only-of-type {\n        vertical-align: middle;\n    }\n\n    .dataframe tbody tr th {\n        vertical-align: top;\n    }\n\n    .dataframe thead th {\n        text-align: right;\n    }\n</style>\n<table border=\"1\" class=\"dataframe\">\n  <thead>\n    <tr style=\"text-align: right;\">\n      <th></th>\n      <th>illuminance</th>\n      <th>blinds</th>\n      <th>lamps</th>\n      <th>rh</th>\n      <th>co2</th>\n      <th>temp</th>\n    </tr>\n  </thead>\n  <tbody>\n    <tr>\n      <th>1448</th>\n      <td>0.788330</td>\n      <td>1.00</td>\n      <td>1.0</td>\n      <td>0.4801</td>\n      <td>-0.516106</td>\n      <td>0.071962</td>\n    </tr>\n    <tr>\n      <th>1670</th>\n      <td>-0.969261</td>\n      <td>1.00</td>\n      <td>0.0</td>\n      <td>0.5350</td>\n      <td>0.006089</td>\n      <td>-0.894763</td>\n    </tr>\n    <tr>\n      <th>1326</th>\n      <td>-0.187456</td>\n      <td>0.14</td>\n      <td>1.0</td>\n      <td>0.4386</td>\n      <td>0.122567</td>\n      <td>0.859664</td>\n    </tr>\n    <tr>\n      <th>2387</th>\n      <td>0.006525</td>\n      <td>1.00</td>\n      <td>1.0</td>\n      <td>0.6138</td>\n      <td>0.472418</td>\n      <td>-0.194015</td>\n    </tr>\n    <tr>\n      <th>2378</th>\n      <td>-0.034622</td>\n      <td>1.00</td>\n      <td>1.0</td>\n      <td>0.6193</td>\n      <td>1.170405</td>\n      <td>-0.194015</td>\n    </tr>\n  </tbody>\n</table>\n</div>"
     },
     "execution_count": 5,
     "metadata": {},
     "output_type": "execute_result"
    }
   ],
   "source": [
    "#DEFINE design matrix\n",
    "#slice dataset\n",
    "f_rate = 0.05\n",
    "env_slice = env.sample(frac=f_rate)\n",
    "\n",
    "Y = env_slice['occupancy']\n",
    "#X = env[['illuminance', 'blinds','lamps','co', 'rh', 'co2', 'temp']]\n",
    "X = env_slice[['illuminance', 'blinds','lamps','rh', 'co2', 'temp']]\n",
    "\n",
    "X.head()"
   ]
  },
  {
   "cell_type": "code",
   "execution_count": 6,
   "metadata": {
    "ExecuteTime": {
     "end_time": "2024-06-12T12:16:35.368399400Z",
     "start_time": "2024-06-12T12:16:35.347128500Z"
    }
   },
   "outputs": [
    {
     "name": "stdout",
     "output_type": "stream",
     "text": [
      "TRAIN***** (107, 6)\n",
      "TEST***** (36, 6)\n"
     ]
    }
   ],
   "source": [
    "#split design matrix (25% of the design matrix used for test)\n",
    "X_train, X_test, y_train, y_test = train_test_split(X, Y)\n",
    "#sanity check\n",
    "print(f'TRAIN***** {X_train.shape}')\n",
    "print(f'TEST***** {X_test.shape}')"
   ]
  },
  {
   "cell_type": "code",
   "execution_count": 7,
   "metadata": {
    "ExecuteTime": {
     "end_time": "2024-06-12T12:16:48.460217500Z",
     "start_time": "2024-06-12T12:16:39.494670300Z"
    }
   },
   "outputs": [
    {
     "data": {
      "text/plain": "     ┌──────────────┐┌──────────────┐\nq_0: ┤ Ry(θ_par[0]) ├┤ Rz(x_par[0]) ├\n     ├──────────────┤├──────────────┤\nq_1: ┤ Ry(θ_par[0]) ├┤ Rz(x_par[1]) ├\n     ├──────────────┤├──────────────┤\nq_2: ┤ Ry(θ_par[0]) ├┤ Rz(x_par[2]) ├\n     ├──────────────┤├──────────────┤\nq_3: ┤ Ry(θ_par[0]) ├┤ Rz(x_par[3]) ├\n     ├──────────────┤├──────────────┤\nq_4: ┤ Ry(θ_par[0]) ├┤ Rz(x_par[4]) ├\n     ├──────────────┤├──────────────┤\nq_5: ┤ Ry(θ_par[0]) ├┤ Rz(x_par[5]) ├\n     └──────────────┘└──────────────┘",
      "text/html": "<pre style=\"word-wrap: normal;white-space: pre;background: #fff0;line-height: 1.1;font-family: &quot;Courier New&quot;,Courier,monospace\">     ┌──────────────┐┌──────────────┐\nq_0: ┤ Ry(θ_par[0]) ├┤ Rz(x_par[0]) ├\n     ├──────────────┤├──────────────┤\nq_1: ┤ Ry(θ_par[0]) ├┤ Rz(x_par[1]) ├\n     ├──────────────┤├──────────────┤\nq_2: ┤ Ry(θ_par[0]) ├┤ Rz(x_par[2]) ├\n     ├──────────────┤├──────────────┤\nq_3: ┤ Ry(θ_par[0]) ├┤ Rz(x_par[3]) ├\n     ├──────────────┤├──────────────┤\nq_4: ┤ Ry(θ_par[0]) ├┤ Rz(x_par[4]) ├\n     ├──────────────┤├──────────────┤\nq_5: ┤ Ry(θ_par[0]) ├┤ Rz(x_par[5]) ├\n     └──────────────┘└──────────────┘</pre>"
     },
     "execution_count": 7,
     "metadata": {},
     "output_type": "execute_result"
    }
   ],
   "source": [
    "from qiskit.circuit.library import ZZFeatureMap\n",
    "from qiskit.circuit import ParameterVector\n",
    "from qiskit.circuit import QuantumCircuit\n",
    "\n",
    "NUM_QUBIT =  X_train.shape[1]\n",
    "\n",
    "# Create 2-qubit feature map\n",
    "qc = QuantumCircuit(NUM_QUBIT)\n",
    "\n",
    "# Vectors of input and trainable user parameters\n",
    "input_params = ParameterVector(\"x_par\", NUM_QUBIT)\n",
    "#training_params = ParameterVector(\"θ_par\", NUM_QUBIT)\n",
    "training_params = ParameterVector(\"θ_par\", 1)\n",
    "\n",
    "# Create an initial rotation layer of trainable parameters\n",
    "#for i, param in enumerate(training_params):\n",
    "#    qc.ry(param, qc.qubits[i])\n",
    "\n",
    "#try with a single paramenter\n",
    "for i, param in enumerate(input_params):\n",
    "    qc.ry(training_params[0], qc.qubits[i])\n",
    "\n",
    "\n",
    "\n",
    "# Create a rotation layer of input parameters\n",
    "for i, param in enumerate(input_params):\n",
    "    qc.rz(param, qc.qubits[i])\n",
    "\n",
    "\n",
    "\n",
    "qc.draw()\n"
   ]
  },
  {
   "cell_type": "markdown",
   "source": [
    "# Andrea's notes on executing TrainableFidelityQuantumKernel on different simulators or real quantum hardware\n",
    "\n",
    "Both FidelityQuantumKernel and TrainableFidelityQuantumKernel constructors take an optional parameters, namely \"fidelity\" (default None), which represents an instance of a BaseStateFidelity abstract in qiskit_algoritms.\n",
    "\n",
    "The library qiskit_algorithm provides an implemenation, \"ComputeUncompute\", that takes a Sampler (v1) as a parameter.\n",
    "\n",
    "A different choice in the Sampler (Base, Aer (with or without noise models), qiskit_ibm_runtime) makes the ComputeUncompute, and thus the FidelityQuantumKernel and TrainableFidelityQuantumKernel, exploiting the related simulator or real quantum hardware.\n",
    "\n",
    "The classes FidelityStatevectorkernel and TrainableFidelityStatevectorkernel, otherwise, exploits only classically simulated statevectors during computations.\n",
    "\n",
    "An example follows."
   ],
   "metadata": {
    "collapsed": false
   }
  },
  {
   "cell_type": "markdown",
   "source": [
    "## First: build a Sampler and a ComputeUncompute instances\n",
    "(ComputeUncompute implements BaseStateFidelity abstract)"
   ],
   "metadata": {
    "collapsed": false
   }
  },
  {
   "cell_type": "markdown",
   "source": [],
   "metadata": {
    "collapsed": false
   }
  },
  {
   "cell_type": "code",
   "execution_count": 10,
   "outputs": [],
   "source": [
    "from qiskit_aer.primitives import Sampler as AerSampler # Aer Sampler\n",
    "from qiskit_algorithms.state_fidelities import ComputeUncompute\n",
    "\n",
    "my_sampler = AerSampler(run_options={\"shots\":1024,\"seed\":123})\n",
    "my_state_fidelity = ComputeUncompute(sampler=my_sampler)"
   ],
   "metadata": {
    "collapsed": false,
    "ExecuteTime": {
     "end_time": "2024-06-12T12:23:21.510859700Z",
     "start_time": "2024-06-12T12:23:21.490168900Z"
    }
   }
  },
  {
   "cell_type": "markdown",
   "source": [
    "## Second: build a TrainableFidelityQuantumKernel\n",
    "which uses our concrete my_state_fidelity object"
   ],
   "metadata": {
    "collapsed": false
   }
  },
  {
   "cell_type": "code",
   "execution_count": 12,
   "metadata": {
    "ExecuteTime": {
     "end_time": "2024-06-12T12:24:47.010013Z",
     "start_time": "2024-06-12T12:24:46.990028300Z"
    }
   },
   "outputs": [],
   "source": [
    "#define the trainable kernel\n",
    "#from qiskit_machine_learning.kernels import FidelityStatevectorKernel\n",
    "#from qiskit_machine_learning.kernels import TrainableFidelityStatevectorKernel\n",
    "#from qiskit_machine_learning.kernels import FidelityQuantumKernel\n",
    "from qiskit_machine_learning.kernels import TrainableFidelityQuantumKernel\n",
    "\n",
    "\n",
    "\n",
    "#q_kernel = TrainableFidelityStatevectorKernel(feature_map=qc, training_parameters=training_params)\n",
    "#fidelity=None #default\n",
    "q_kernel = TrainableFidelityQuantumKernel(fidelity=my_state_fidelity, feature_map=qc, training_parameters=training_params)"
   ]
  },
  {
   "cell_type": "markdown",
   "source": [
    "## Then: all as usual\n",
    "and thus the same as the qsvc_trained.ipynb notebook"
   ],
   "metadata": {
    "collapsed": false
   }
  },
  {
   "cell_type": "code",
   "execution_count": 13,
   "metadata": {
    "ExecuteTime": {
     "end_time": "2024-06-12T13:06:56.074342Z",
     "start_time": "2024-06-12T12:24:55.543111900Z"
    }
   },
   "outputs": [
    {
     "name": "stderr",
     "output_type": "stream",
     "text": [
      "C:\\Users\\vinci\\PycharmProjects\\QuantumKernels\\.venv\\lib\\site-packages\\qiskit_algorithms\\optimizers\\spsa.py:347: RuntimeWarning: divide by zero encountered in scalar divide\n",
      "  a = target_magnitude / avg_magnitudes\n",
      "C:\\Users\\vinci\\PycharmProjects\\QuantumKernels\\.venv\\lib\\site-packages\\qiskit_algorithms\\optimizers\\spsa.py:567: RuntimeWarning: invalid value encountered in multiply\n",
      "  update = update * next(eta)\n"
     ]
    },
    {
     "ename": "TypeError",
     "evalue": "Invalid parameter values, expected Sequence[Sequence[float]].",
     "output_type": "error",
     "traceback": [
      "\u001B[1;31m---------------------------------------------------------------------------\u001B[0m",
      "\u001B[1;31mTypeError\u001B[0m                                 Traceback (most recent call last)",
      "Cell \u001B[1;32mIn[13], line 14\u001B[0m\n\u001B[0;32m     11\u001B[0m init_point\u001B[38;5;241m=\u001B[39m[np\u001B[38;5;241m.\u001B[39mpi\u001B[38;5;241m/\u001B[39m\u001B[38;5;241m2\u001B[39m]\n\u001B[0;32m     13\u001B[0m qk_trainer \u001B[38;5;241m=\u001B[39m QuantumKernelTrainer(quantum_kernel\u001B[38;5;241m=\u001B[39mq_kernel, loss\u001B[38;5;241m=\u001B[39mloss_func, initial_point\u001B[38;5;241m=\u001B[39m init_point)\n\u001B[1;32m---> 14\u001B[0m qkt_results \u001B[38;5;241m=\u001B[39m \u001B[43mqk_trainer\u001B[49m\u001B[38;5;241;43m.\u001B[39;49m\u001B[43mfit\u001B[49m\u001B[43m(\u001B[49m\u001B[43mX_train\u001B[49m\u001B[43m,\u001B[49m\u001B[43m \u001B[49m\u001B[43my_train\u001B[49m\u001B[43m)\u001B[49m\n\u001B[0;32m     16\u001B[0m optimized_kernel \u001B[38;5;241m=\u001B[39m qkt_results\u001B[38;5;241m.\u001B[39mquantum_kernel\n",
      "File \u001B[1;32m~\\PycharmProjects\\QuantumKernels\\.venv\\lib\\site-packages\\qiskit_machine_learning\\kernels\\algorithms\\quantum_kernel_trainer.py:212\u001B[0m, in \u001B[0;36mQuantumKernelTrainer.fit\u001B[1;34m(self, data, labels)\u001B[0m\n\u001B[0;32m    210\u001B[0m     opt_results \u001B[38;5;241m=\u001B[39m \u001B[38;5;28mself\u001B[39m\u001B[38;5;241m.\u001B[39m_optimizer(fun\u001B[38;5;241m=\u001B[39mloss_function, x0\u001B[38;5;241m=\u001B[39m\u001B[38;5;28mself\u001B[39m\u001B[38;5;241m.\u001B[39m_initial_point)\n\u001B[0;32m    211\u001B[0m \u001B[38;5;28;01melse\u001B[39;00m:\n\u001B[1;32m--> 212\u001B[0m     opt_results \u001B[38;5;241m=\u001B[39m \u001B[38;5;28;43mself\u001B[39;49m\u001B[38;5;241;43m.\u001B[39;49m\u001B[43m_optimizer\u001B[49m\u001B[38;5;241;43m.\u001B[39;49m\u001B[43mminimize\u001B[49m\u001B[43m(\u001B[49m\n\u001B[0;32m    213\u001B[0m \u001B[43m        \u001B[49m\u001B[43mfun\u001B[49m\u001B[38;5;241;43m=\u001B[39;49m\u001B[43mloss_function\u001B[49m\u001B[43m,\u001B[49m\n\u001B[0;32m    214\u001B[0m \u001B[43m        \u001B[49m\u001B[43mx0\u001B[49m\u001B[38;5;241;43m=\u001B[39;49m\u001B[38;5;28;43mself\u001B[39;49m\u001B[38;5;241;43m.\u001B[39;49m\u001B[43m_initial_point\u001B[49m\u001B[43m,\u001B[49m\n\u001B[0;32m    215\u001B[0m \u001B[43m    \u001B[49m\u001B[43m)\u001B[49m\n\u001B[0;32m    217\u001B[0m \u001B[38;5;66;03m# Return kernel training results\u001B[39;00m\n\u001B[0;32m    218\u001B[0m result \u001B[38;5;241m=\u001B[39m QuantumKernelTrainerResult()\n",
      "File \u001B[1;32m~\\PycharmProjects\\QuantumKernels\\.venv\\lib\\site-packages\\qiskit_algorithms\\optimizers\\spsa.py:558\u001B[0m, in \u001B[0;36mSPSA.minimize\u001B[1;34m(self, fun, x0, jac, bounds)\u001B[0m\n\u001B[0;32m    556\u001B[0m iteration_start \u001B[38;5;241m=\u001B[39m time()\n\u001B[0;32m    557\u001B[0m \u001B[38;5;66;03m# compute update\u001B[39;00m\n\u001B[1;32m--> 558\u001B[0m fx_estimate, update \u001B[38;5;241m=\u001B[39m \u001B[38;5;28;43mself\u001B[39;49m\u001B[38;5;241;43m.\u001B[39;49m\u001B[43m_compute_update\u001B[49m\u001B[43m(\u001B[49m\u001B[43mfun\u001B[49m\u001B[43m,\u001B[49m\u001B[43m \u001B[49m\u001B[43mx\u001B[49m\u001B[43m,\u001B[49m\u001B[43m \u001B[49m\u001B[43mk\u001B[49m\u001B[43m,\u001B[49m\u001B[43m \u001B[49m\u001B[38;5;28;43mnext\u001B[39;49m\u001B[43m(\u001B[49m\u001B[43meps\u001B[49m\u001B[43m)\u001B[49m\u001B[43m,\u001B[49m\u001B[43m \u001B[49m\u001B[43mlse_solver\u001B[49m\u001B[43m)\u001B[49m\n\u001B[0;32m    560\u001B[0m \u001B[38;5;66;03m# trust region\u001B[39;00m\n\u001B[0;32m    561\u001B[0m \u001B[38;5;28;01mif\u001B[39;00m \u001B[38;5;28mself\u001B[39m\u001B[38;5;241m.\u001B[39mtrust_region:\n",
      "File \u001B[1;32m~\\PycharmProjects\\QuantumKernels\\.venv\\lib\\site-packages\\qiskit_algorithms\\optimizers\\spsa.py:489\u001B[0m, in \u001B[0;36mSPSA._compute_update\u001B[1;34m(self, loss, x, k, eps, lse_solver)\u001B[0m\n\u001B[0;32m    486\u001B[0m     num_samples \u001B[38;5;241m=\u001B[39m \u001B[38;5;28mself\u001B[39m\u001B[38;5;241m.\u001B[39mresamplings\n\u001B[0;32m    488\u001B[0m \u001B[38;5;66;03m# accumulate the number of samples\u001B[39;00m\n\u001B[1;32m--> 489\u001B[0m value, gradient, hessian \u001B[38;5;241m=\u001B[39m \u001B[38;5;28;43mself\u001B[39;49m\u001B[38;5;241;43m.\u001B[39;49m\u001B[43m_point_estimate\u001B[49m\u001B[43m(\u001B[49m\u001B[43mloss\u001B[49m\u001B[43m,\u001B[49m\u001B[43m \u001B[49m\u001B[43mx\u001B[49m\u001B[43m,\u001B[49m\u001B[43m \u001B[49m\u001B[43meps\u001B[49m\u001B[43m,\u001B[49m\u001B[43m \u001B[49m\u001B[43mnum_samples\u001B[49m\u001B[43m)\u001B[49m\n\u001B[0;32m    491\u001B[0m \u001B[38;5;66;03m# precondition gradient with inverse Hessian, if specified\u001B[39;00m\n\u001B[0;32m    492\u001B[0m \u001B[38;5;28;01mif\u001B[39;00m \u001B[38;5;28mself\u001B[39m\u001B[38;5;241m.\u001B[39msecond_order:\n",
      "File \u001B[1;32m~\\PycharmProjects\\QuantumKernels\\.venv\\lib\\site-packages\\qiskit_algorithms\\optimizers\\spsa.py:466\u001B[0m, in \u001B[0;36mSPSA._point_estimate\u001B[1;34m(self, loss, x, eps, num_samples)\u001B[0m\n\u001B[0;32m    463\u001B[0m delta1 \u001B[38;5;241m=\u001B[39m deltas1[i]\n\u001B[0;32m    464\u001B[0m delta2 \u001B[38;5;241m=\u001B[39m deltas2[i] \u001B[38;5;28;01mif\u001B[39;00m \u001B[38;5;28mself\u001B[39m\u001B[38;5;241m.\u001B[39msecond_order \u001B[38;5;28;01melse\u001B[39;00m \u001B[38;5;28;01mNone\u001B[39;00m\n\u001B[1;32m--> 466\u001B[0m value_sample, gradient_sample, hessian_sample \u001B[38;5;241m=\u001B[39m \u001B[38;5;28;43mself\u001B[39;49m\u001B[38;5;241;43m.\u001B[39;49m\u001B[43m_point_sample\u001B[49m\u001B[43m(\u001B[49m\n\u001B[0;32m    467\u001B[0m \u001B[43m    \u001B[49m\u001B[43mloss\u001B[49m\u001B[43m,\u001B[49m\u001B[43m \u001B[49m\u001B[43mx\u001B[49m\u001B[43m,\u001B[49m\u001B[43m \u001B[49m\u001B[43meps\u001B[49m\u001B[43m,\u001B[49m\u001B[43m \u001B[49m\u001B[43mdelta1\u001B[49m\u001B[43m,\u001B[49m\u001B[43m \u001B[49m\u001B[43mdelta2\u001B[49m\n\u001B[0;32m    468\u001B[0m \u001B[43m\u001B[49m\u001B[43m)\u001B[49m\n\u001B[0;32m    469\u001B[0m value_estimate \u001B[38;5;241m+\u001B[39m\u001B[38;5;241m=\u001B[39m value_sample\n\u001B[0;32m    470\u001B[0m gradient_estimate \u001B[38;5;241m+\u001B[39m\u001B[38;5;241m=\u001B[39m gradient_sample\n",
      "File \u001B[1;32m~\\PycharmProjects\\QuantumKernels\\.venv\\lib\\site-packages\\qiskit_algorithms\\optimizers\\spsa.py:427\u001B[0m, in \u001B[0;36mSPSA._point_sample\u001B[1;34m(self, loss, x, eps, delta1, delta2)\u001B[0m\n\u001B[0;32m    424\u001B[0m     \u001B[38;5;28mself\u001B[39m\u001B[38;5;241m.\u001B[39m_nfev \u001B[38;5;241m+\u001B[39m\u001B[38;5;241m=\u001B[39m \u001B[38;5;241m2\u001B[39m\n\u001B[0;32m    426\u001B[0m \u001B[38;5;66;03m# batch evaluate the points (if possible)\u001B[39;00m\n\u001B[1;32m--> 427\u001B[0m values \u001B[38;5;241m=\u001B[39m \u001B[43m_batch_evaluate\u001B[49m\u001B[43m(\u001B[49m\u001B[43mloss\u001B[49m\u001B[43m,\u001B[49m\u001B[43m \u001B[49m\u001B[43mpoints\u001B[49m\u001B[43m,\u001B[49m\u001B[43m \u001B[49m\u001B[38;5;28;43mself\u001B[39;49m\u001B[38;5;241;43m.\u001B[39;49m\u001B[43m_max_evals_grouped\u001B[49m\u001B[43m)\u001B[49m\n\u001B[0;32m    429\u001B[0m plus \u001B[38;5;241m=\u001B[39m values[\u001B[38;5;241m0\u001B[39m]\n\u001B[0;32m    430\u001B[0m minus \u001B[38;5;241m=\u001B[39m values[\u001B[38;5;241m1\u001B[39m]\n",
      "File \u001B[1;32m~\\PycharmProjects\\QuantumKernels\\.venv\\lib\\site-packages\\qiskit_algorithms\\optimizers\\spsa.py:693\u001B[0m, in \u001B[0;36m_batch_evaluate\u001B[1;34m(function, points, max_evals_grouped, unpack_points)\u001B[0m\n\u001B[0;32m    690\u001B[0m \u001B[38;5;66;03m# if the function cannot handle lists of points as input, cover this case immediately\u001B[39;00m\n\u001B[0;32m    691\u001B[0m \u001B[38;5;28;01mif\u001B[39;00m max_evals_grouped \u001B[38;5;129;01mis\u001B[39;00m \u001B[38;5;28;01mNone\u001B[39;00m \u001B[38;5;129;01mor\u001B[39;00m max_evals_grouped \u001B[38;5;241m==\u001B[39m \u001B[38;5;241m1\u001B[39m:\n\u001B[0;32m    692\u001B[0m     \u001B[38;5;66;03m# support functions with multiple arguments where the points are given in a tuple\u001B[39;00m\n\u001B[1;32m--> 693\u001B[0m     \u001B[38;5;28;01mreturn\u001B[39;00m [\n\u001B[0;32m    694\u001B[0m         function(\u001B[38;5;241m*\u001B[39mpoint) \u001B[38;5;28;01mif\u001B[39;00m \u001B[38;5;28misinstance\u001B[39m(point, \u001B[38;5;28mtuple\u001B[39m) \u001B[38;5;28;01melse\u001B[39;00m function(point) \u001B[38;5;28;01mfor\u001B[39;00m point \u001B[38;5;129;01min\u001B[39;00m points\n\u001B[0;32m    695\u001B[0m     ]\n\u001B[0;32m    697\u001B[0m num_points \u001B[38;5;241m=\u001B[39m \u001B[38;5;28mlen\u001B[39m(points)\n\u001B[0;32m    699\u001B[0m \u001B[38;5;66;03m# get the number of batches\u001B[39;00m\n",
      "File \u001B[1;32m~\\PycharmProjects\\QuantumKernels\\.venv\\lib\\site-packages\\qiskit_algorithms\\optimizers\\spsa.py:694\u001B[0m, in \u001B[0;36m<listcomp>\u001B[1;34m(.0)\u001B[0m\n\u001B[0;32m    690\u001B[0m \u001B[38;5;66;03m# if the function cannot handle lists of points as input, cover this case immediately\u001B[39;00m\n\u001B[0;32m    691\u001B[0m \u001B[38;5;28;01mif\u001B[39;00m max_evals_grouped \u001B[38;5;129;01mis\u001B[39;00m \u001B[38;5;28;01mNone\u001B[39;00m \u001B[38;5;129;01mor\u001B[39;00m max_evals_grouped \u001B[38;5;241m==\u001B[39m \u001B[38;5;241m1\u001B[39m:\n\u001B[0;32m    692\u001B[0m     \u001B[38;5;66;03m# support functions with multiple arguments where the points are given in a tuple\u001B[39;00m\n\u001B[0;32m    693\u001B[0m     \u001B[38;5;28;01mreturn\u001B[39;00m [\n\u001B[1;32m--> 694\u001B[0m         function(\u001B[38;5;241m*\u001B[39mpoint) \u001B[38;5;28;01mif\u001B[39;00m \u001B[38;5;28misinstance\u001B[39m(point, \u001B[38;5;28mtuple\u001B[39m) \u001B[38;5;28;01melse\u001B[39;00m \u001B[43mfunction\u001B[49m\u001B[43m(\u001B[49m\u001B[43mpoint\u001B[49m\u001B[43m)\u001B[49m \u001B[38;5;28;01mfor\u001B[39;00m point \u001B[38;5;129;01min\u001B[39;00m points\n\u001B[0;32m    695\u001B[0m     ]\n\u001B[0;32m    697\u001B[0m num_points \u001B[38;5;241m=\u001B[39m \u001B[38;5;28mlen\u001B[39m(points)\n\u001B[0;32m    699\u001B[0m \u001B[38;5;66;03m# get the number of batches\u001B[39;00m\n",
      "File \u001B[1;32m~\\PycharmProjects\\QuantumKernels\\.venv\\lib\\site-packages\\qiskit_machine_learning\\utils\\loss_functions\\kernel_loss_functions.py:109\u001B[0m, in \u001B[0;36mSVCLoss.evaluate\u001B[1;34m(self, parameter_values, quantum_kernel, data, labels)\u001B[0m\n\u001B[0;32m    106\u001B[0m quantum_kernel\u001B[38;5;241m.\u001B[39massign_training_parameters(parameter_values)\n\u001B[0;32m    108\u001B[0m \u001B[38;5;66;03m# Get estimated kernel matrix\u001B[39;00m\n\u001B[1;32m--> 109\u001B[0m kmatrix \u001B[38;5;241m=\u001B[39m \u001B[43mquantum_kernel\u001B[49m\u001B[38;5;241;43m.\u001B[39;49m\u001B[43mevaluate\u001B[49m\u001B[43m(\u001B[49m\u001B[43mnp\u001B[49m\u001B[38;5;241;43m.\u001B[39;49m\u001B[43marray\u001B[49m\u001B[43m(\u001B[49m\u001B[43mdata\u001B[49m\u001B[43m)\u001B[49m\u001B[43m)\u001B[49m\n\u001B[0;32m    111\u001B[0m \u001B[38;5;66;03m# Train a quantum support vector classifier\u001B[39;00m\n\u001B[0;32m    112\u001B[0m svc \u001B[38;5;241m=\u001B[39m SVC(kernel\u001B[38;5;241m=\u001B[39m\u001B[38;5;124m\"\u001B[39m\u001B[38;5;124mprecomputed\u001B[39m\u001B[38;5;124m\"\u001B[39m, \u001B[38;5;241m*\u001B[39m\u001B[38;5;241m*\u001B[39m\u001B[38;5;28mself\u001B[39m\u001B[38;5;241m.\u001B[39mkwargs)\n",
      "File \u001B[1;32m~\\PycharmProjects\\QuantumKernels\\.venv\\lib\\site-packages\\qiskit_machine_learning\\kernels\\fidelity_quantum_kernel.py:114\u001B[0m, in \u001B[0;36mFidelityQuantumKernel.evaluate\u001B[1;34m(self, x_vec, y_vec)\u001B[0m\n\u001B[0;32m    112\u001B[0m \u001B[38;5;28;01mif\u001B[39;00m is_symmetric:\n\u001B[0;32m    113\u001B[0m     left_parameters, right_parameters, indices \u001B[38;5;241m=\u001B[39m \u001B[38;5;28mself\u001B[39m\u001B[38;5;241m.\u001B[39m_get_symmetric_parameterization(x_vec)\n\u001B[1;32m--> 114\u001B[0m     kernel_matrix \u001B[38;5;241m=\u001B[39m \u001B[38;5;28;43mself\u001B[39;49m\u001B[38;5;241;43m.\u001B[39;49m\u001B[43m_get_symmetric_kernel_matrix\u001B[49m\u001B[43m(\u001B[49m\n\u001B[0;32m    115\u001B[0m \u001B[43m        \u001B[49m\u001B[43mkernel_shape\u001B[49m\u001B[43m,\u001B[49m\u001B[43m \u001B[49m\u001B[43mleft_parameters\u001B[49m\u001B[43m,\u001B[49m\u001B[43m \u001B[49m\u001B[43mright_parameters\u001B[49m\u001B[43m,\u001B[49m\u001B[43m \u001B[49m\u001B[43mindices\u001B[49m\n\u001B[0;32m    116\u001B[0m \u001B[43m    \u001B[49m\u001B[43m)\u001B[49m\n\u001B[0;32m    117\u001B[0m \u001B[38;5;28;01melse\u001B[39;00m:\n\u001B[0;32m    118\u001B[0m     left_parameters, right_parameters, indices \u001B[38;5;241m=\u001B[39m \u001B[38;5;28mself\u001B[39m\u001B[38;5;241m.\u001B[39m_get_parameterization(x_vec, y_vec)\n",
      "File \u001B[1;32m~\\PycharmProjects\\QuantumKernels\\.venv\\lib\\site-packages\\qiskit_machine_learning\\kernels\\fidelity_quantum_kernel.py:202\u001B[0m, in \u001B[0;36mFidelityQuantumKernel._get_symmetric_kernel_matrix\u001B[1;34m(self, kernel_shape, left_parameters, right_parameters, indices)\u001B[0m\n\u001B[0;32m    192\u001B[0m \u001B[38;5;28;01mdef\u001B[39;00m \u001B[38;5;21m_get_symmetric_kernel_matrix\u001B[39m(\n\u001B[0;32m    193\u001B[0m     \u001B[38;5;28mself\u001B[39m,\n\u001B[0;32m    194\u001B[0m     kernel_shape: \u001B[38;5;28mtuple\u001B[39m[\u001B[38;5;28mint\u001B[39m, \u001B[38;5;28mint\u001B[39m],\n\u001B[1;32m   (...)\u001B[0m\n\u001B[0;32m    197\u001B[0m     indices: KernelIndices,\n\u001B[0;32m    198\u001B[0m ) \u001B[38;5;241m-\u001B[39m\u001B[38;5;241m>\u001B[39m np\u001B[38;5;241m.\u001B[39mndarray:\n\u001B[0;32m    199\u001B[0m \u001B[38;5;250m    \u001B[39m\u001B[38;5;124;03m\"\"\"\u001B[39;00m\n\u001B[0;32m    200\u001B[0m \u001B[38;5;124;03m    Given a set of parameterization, this computes the kernel matrix.\u001B[39;00m\n\u001B[0;32m    201\u001B[0m \u001B[38;5;124;03m    \"\"\"\u001B[39;00m\n\u001B[1;32m--> 202\u001B[0m     kernel_entries \u001B[38;5;241m=\u001B[39m \u001B[38;5;28;43mself\u001B[39;49m\u001B[38;5;241;43m.\u001B[39;49m\u001B[43m_get_kernel_entries\u001B[49m\u001B[43m(\u001B[49m\u001B[43mleft_parameters\u001B[49m\u001B[43m,\u001B[49m\u001B[43m \u001B[49m\u001B[43mright_parameters\u001B[49m\u001B[43m)\u001B[49m\n\u001B[0;32m    203\u001B[0m     kernel_matrix \u001B[38;5;241m=\u001B[39m np\u001B[38;5;241m.\u001B[39mones(kernel_shape)\n\u001B[0;32m    205\u001B[0m     \u001B[38;5;28;01mfor\u001B[39;00m i, (col, row) \u001B[38;5;129;01min\u001B[39;00m \u001B[38;5;28menumerate\u001B[39m(indices):\n",
      "File \u001B[1;32m~\\PycharmProjects\\QuantumKernels\\.venv\\lib\\site-packages\\qiskit_machine_learning\\kernels\\fidelity_quantum_kernel.py:223\u001B[0m, in \u001B[0;36mFidelityQuantumKernel._get_kernel_entries\u001B[1;34m(self, left_parameters, right_parameters)\u001B[0m\n\u001B[0;32m    221\u001B[0m \u001B[38;5;28;01mif\u001B[39;00m num_circuits \u001B[38;5;241m!=\u001B[39m \u001B[38;5;241m0\u001B[39m:\n\u001B[0;32m    222\u001B[0m     \u001B[38;5;28;01mif\u001B[39;00m \u001B[38;5;28mself\u001B[39m\u001B[38;5;241m.\u001B[39mmax_circuits_per_job \u001B[38;5;129;01mis\u001B[39;00m \u001B[38;5;28;01mNone\u001B[39;00m:\n\u001B[1;32m--> 223\u001B[0m         job \u001B[38;5;241m=\u001B[39m \u001B[38;5;28;43mself\u001B[39;49m\u001B[38;5;241;43m.\u001B[39;49m\u001B[43m_fidelity\u001B[49m\u001B[38;5;241;43m.\u001B[39;49m\u001B[43mrun\u001B[49m\u001B[43m(\u001B[49m\n\u001B[0;32m    224\u001B[0m \u001B[43m            \u001B[49m\u001B[43m[\u001B[49m\u001B[38;5;28;43mself\u001B[39;49m\u001B[38;5;241;43m.\u001B[39;49m\u001B[43m_feature_map\u001B[49m\u001B[43m]\u001B[49m\u001B[43m \u001B[49m\u001B[38;5;241;43m*\u001B[39;49m\u001B[43m \u001B[49m\u001B[43mnum_circuits\u001B[49m\u001B[43m,\u001B[49m\n\u001B[0;32m    225\u001B[0m \u001B[43m            \u001B[49m\u001B[43m[\u001B[49m\u001B[38;5;28;43mself\u001B[39;49m\u001B[38;5;241;43m.\u001B[39;49m\u001B[43m_feature_map\u001B[49m\u001B[43m]\u001B[49m\u001B[43m \u001B[49m\u001B[38;5;241;43m*\u001B[39;49m\u001B[43m \u001B[49m\u001B[43mnum_circuits\u001B[49m\u001B[43m,\u001B[49m\n\u001B[0;32m    226\u001B[0m \u001B[43m            \u001B[49m\u001B[43mleft_parameters\u001B[49m\u001B[43m,\u001B[49m\n\u001B[0;32m    227\u001B[0m \u001B[43m            \u001B[49m\u001B[43mright_parameters\u001B[49m\u001B[43m,\u001B[49m\n\u001B[0;32m    228\u001B[0m \u001B[43m        \u001B[49m\u001B[43m)\u001B[49m\n\u001B[0;32m    229\u001B[0m         kernel_entries \u001B[38;5;241m=\u001B[39m job\u001B[38;5;241m.\u001B[39mresult()\u001B[38;5;241m.\u001B[39mfidelities\n\u001B[0;32m    230\u001B[0m     \u001B[38;5;28;01melse\u001B[39;00m:\n\u001B[0;32m    231\u001B[0m         \u001B[38;5;66;03m# Determine the number of chunks needed\u001B[39;00m\n",
      "File \u001B[1;32m~\\PycharmProjects\\QuantumKernels\\.venv\\lib\\site-packages\\qiskit_algorithms\\state_fidelities\\base_state_fidelity.py:298\u001B[0m, in \u001B[0;36mBaseStateFidelity.run\u001B[1;34m(self, circuits_1, circuits_2, values_1, values_2, **options)\u001B[0m\n\u001B[0;32m    270\u001B[0m \u001B[38;5;28;01mdef\u001B[39;00m \u001B[38;5;21mrun\u001B[39m(\n\u001B[0;32m    271\u001B[0m     \u001B[38;5;28mself\u001B[39m,\n\u001B[0;32m    272\u001B[0m     circuits_1: QuantumCircuit \u001B[38;5;241m|\u001B[39m Sequence[QuantumCircuit],\n\u001B[1;32m   (...)\u001B[0m\n\u001B[0;32m    276\u001B[0m     \u001B[38;5;241m*\u001B[39m\u001B[38;5;241m*\u001B[39moptions,\n\u001B[0;32m    277\u001B[0m ) \u001B[38;5;241m-\u001B[39m\u001B[38;5;241m>\u001B[39m AlgorithmJob:\n\u001B[0;32m    278\u001B[0m \u001B[38;5;250m    \u001B[39m\u001B[38;5;124mr\u001B[39m\u001B[38;5;124;03m\"\"\"\u001B[39;00m\n\u001B[0;32m    279\u001B[0m \u001B[38;5;124;03m    Runs asynchronously the state overlap (fidelity) calculation between two\u001B[39;00m\n\u001B[0;32m    280\u001B[0m \u001B[38;5;124;03m    (parametrized) circuits (first and second) for a specific set of parameter\u001B[39;00m\n\u001B[1;32m   (...)\u001B[0m\n\u001B[0;32m    296\u001B[0m \u001B[38;5;124;03m        The job's result is an instance of :class:`.StateFidelityResult`.\u001B[39;00m\n\u001B[0;32m    297\u001B[0m \u001B[38;5;124;03m    \"\"\"\u001B[39;00m\n\u001B[1;32m--> 298\u001B[0m     job \u001B[38;5;241m=\u001B[39m \u001B[38;5;28mself\u001B[39m\u001B[38;5;241m.\u001B[39m_run(circuits_1, circuits_2, values_1, values_2, \u001B[38;5;241m*\u001B[39m\u001B[38;5;241m*\u001B[39moptions)\n\u001B[0;32m    300\u001B[0m     job\u001B[38;5;241m.\u001B[39msubmit()\n\u001B[0;32m    301\u001B[0m     \u001B[38;5;28;01mreturn\u001B[39;00m job\n",
      "File \u001B[1;32m~\\PycharmProjects\\QuantumKernels\\.venv\\lib\\site-packages\\qiskit_algorithms\\state_fidelities\\compute_uncompute.py:160\u001B[0m, in \u001B[0;36mComputeUncompute._run\u001B[1;34m(self, circuits_1, circuits_2, values_1, values_2, **options)\u001B[0m\n\u001B[0;32m    157\u001B[0m opts \u001B[38;5;241m=\u001B[39m copy(\u001B[38;5;28mself\u001B[39m\u001B[38;5;241m.\u001B[39m_default_options)\n\u001B[0;32m    158\u001B[0m opts\u001B[38;5;241m.\u001B[39mupdate_options(\u001B[38;5;241m*\u001B[39m\u001B[38;5;241m*\u001B[39moptions)\n\u001B[1;32m--> 160\u001B[0m sampler_job \u001B[38;5;241m=\u001B[39m \u001B[38;5;28mself\u001B[39m\u001B[38;5;241m.\u001B[39m_sampler\u001B[38;5;241m.\u001B[39mrun(circuits\u001B[38;5;241m=\u001B[39mcircuits, parameter_values\u001B[38;5;241m=\u001B[39mvalues, \u001B[38;5;241m*\u001B[39m\u001B[38;5;241m*\u001B[39mopts\u001B[38;5;241m.\u001B[39m\u001B[38;5;18m__dict__\u001B[39m)\n\u001B[0;32m    162\u001B[0m local_opts \u001B[38;5;241m=\u001B[39m \u001B[38;5;28mself\u001B[39m\u001B[38;5;241m.\u001B[39m_get_local_options(opts\u001B[38;5;241m.\u001B[39m\u001B[38;5;18m__dict__\u001B[39m)\n\u001B[0;32m    163\u001B[0m \u001B[38;5;28;01mreturn\u001B[39;00m AlgorithmJob(ComputeUncompute\u001B[38;5;241m.\u001B[39m_call, sampler_job, circuits, \u001B[38;5;28mself\u001B[39m\u001B[38;5;241m.\u001B[39m_local, local_opts)\n",
      "File \u001B[1;32m~\\PycharmProjects\\QuantumKernels\\.venv\\lib\\site-packages\\qiskit\\primitives\\base\\base_sampler.py:131\u001B[0m, in \u001B[0;36mBaseSamplerV1.run\u001B[1;34m(self, circuits, parameter_values, **run_options)\u001B[0m\n\u001B[0;32m    116\u001B[0m \u001B[38;5;250m\u001B[39m\u001B[38;5;124;03m\"\"\"Run the job of the sampling of bitstrings.\u001B[39;00m\n\u001B[0;32m    117\u001B[0m \n\u001B[0;32m    118\u001B[0m \u001B[38;5;124;03mArgs:\u001B[39;00m\n\u001B[1;32m   (...)\u001B[0m\n\u001B[0;32m    128\u001B[0m \u001B[38;5;124;03m    ValueError: Invalid arguments are given.\u001B[39;00m\n\u001B[0;32m    129\u001B[0m \u001B[38;5;124;03m\"\"\"\u001B[39;00m\n\u001B[0;32m    130\u001B[0m \u001B[38;5;66;03m# Validation\u001B[39;00m\n\u001B[1;32m--> 131\u001B[0m circuits, parameter_values \u001B[38;5;241m=\u001B[39m \u001B[43mvalidation\u001B[49m\u001B[38;5;241;43m.\u001B[39;49m\u001B[43m_validate_sampler_args\u001B[49m\u001B[43m(\u001B[49m\u001B[43mcircuits\u001B[49m\u001B[43m,\u001B[49m\u001B[43m \u001B[49m\u001B[43mparameter_values\u001B[49m\u001B[43m)\u001B[49m\n\u001B[0;32m    133\u001B[0m \u001B[38;5;66;03m# Options\u001B[39;00m\n\u001B[0;32m    134\u001B[0m run_opts \u001B[38;5;241m=\u001B[39m copy(\u001B[38;5;28mself\u001B[39m\u001B[38;5;241m.\u001B[39moptions)\n",
      "File \u001B[1;32m~\\PycharmProjects\\QuantumKernels\\.venv\\lib\\site-packages\\qiskit\\primitives\\base\\validation.py:88\u001B[0m, in \u001B[0;36m_validate_sampler_args\u001B[1;34m(circuits, parameter_values)\u001B[0m\n\u001B[0;32m     86\u001B[0m \u001B[38;5;66;03m# Singular validation\u001B[39;00m\n\u001B[0;32m     87\u001B[0m circuits \u001B[38;5;241m=\u001B[39m _validate_circuits(circuits, requires_measure\u001B[38;5;241m=\u001B[39m\u001B[38;5;28;01mTrue\u001B[39;00m)\n\u001B[1;32m---> 88\u001B[0m parameter_values \u001B[38;5;241m=\u001B[39m \u001B[43m_validate_parameter_values\u001B[49m\u001B[43m(\u001B[49m\n\u001B[0;32m     89\u001B[0m \u001B[43m    \u001B[49m\u001B[43mparameter_values\u001B[49m\u001B[43m,\u001B[49m\n\u001B[0;32m     90\u001B[0m \u001B[43m    \u001B[49m\u001B[43mdefault\u001B[49m\u001B[38;5;241;43m=\u001B[39;49m\u001B[43m[\u001B[49m\u001B[43m(\u001B[49m\u001B[43m)\u001B[49m\u001B[43m]\u001B[49m\u001B[43m \u001B[49m\u001B[38;5;241;43m*\u001B[39;49m\u001B[43m \u001B[49m\u001B[38;5;28;43mlen\u001B[39;49m\u001B[43m(\u001B[49m\u001B[43mcircuits\u001B[49m\u001B[43m)\u001B[49m\u001B[43m,\u001B[49m\n\u001B[0;32m     91\u001B[0m \u001B[43m\u001B[49m\u001B[43m)\u001B[49m\n\u001B[0;32m     93\u001B[0m \u001B[38;5;66;03m# Cross-validation\u001B[39;00m\n\u001B[0;32m     94\u001B[0m _cross_validate_circuits_parameter_values(circuits, parameter_values)\n",
      "File \u001B[1;32m~\\PycharmProjects\\QuantumKernels\\.venv\\lib\\site-packages\\qiskit\\primitives\\base\\validation.py:163\u001B[0m, in \u001B[0;36m_validate_parameter_values\u001B[1;34m(parameter_values, default)\u001B[0m\n\u001B[0;32m    157\u001B[0m \u001B[38;5;66;03m# Validation\u001B[39;00m\n\u001B[0;32m    158\u001B[0m \u001B[38;5;28;01mif\u001B[39;00m (\n\u001B[0;32m    159\u001B[0m     \u001B[38;5;129;01mnot\u001B[39;00m \u001B[38;5;28misinstance\u001B[39m(parameter_values, Sequence)\n\u001B[0;32m    160\u001B[0m     \u001B[38;5;129;01mor\u001B[39;00m \u001B[38;5;129;01mnot\u001B[39;00m \u001B[38;5;28mall\u001B[39m(\u001B[38;5;28misinstance\u001B[39m(vector, Sequence) \u001B[38;5;28;01mfor\u001B[39;00m vector \u001B[38;5;129;01min\u001B[39;00m parameter_values)\n\u001B[0;32m    161\u001B[0m     \u001B[38;5;129;01mor\u001B[39;00m \u001B[38;5;129;01mnot\u001B[39;00m \u001B[38;5;28mall\u001B[39m(\u001B[38;5;28mall\u001B[39m(_isreal(value) \u001B[38;5;28;01mfor\u001B[39;00m value \u001B[38;5;129;01min\u001B[39;00m vector) \u001B[38;5;28;01mfor\u001B[39;00m vector \u001B[38;5;129;01min\u001B[39;00m parameter_values)\n\u001B[0;32m    162\u001B[0m ):\n\u001B[1;32m--> 163\u001B[0m     \u001B[38;5;28;01mraise\u001B[39;00m \u001B[38;5;167;01mTypeError\u001B[39;00m(\u001B[38;5;124m\"\u001B[39m\u001B[38;5;124mInvalid parameter values, expected Sequence[Sequence[float]].\u001B[39m\u001B[38;5;124m\"\u001B[39m)\n\u001B[0;32m    165\u001B[0m \u001B[38;5;28;01mreturn\u001B[39;00m \u001B[38;5;28mtuple\u001B[39m(\u001B[38;5;28mtuple\u001B[39m(\u001B[38;5;28mfloat\u001B[39m(value) \u001B[38;5;28;01mfor\u001B[39;00m value \u001B[38;5;129;01min\u001B[39;00m vector) \u001B[38;5;28;01mfor\u001B[39;00m vector \u001B[38;5;129;01min\u001B[39;00m parameter_values)\n",
      "\u001B[1;31mTypeError\u001B[0m: Invalid parameter values, expected Sequence[Sequence[float]]."
     ]
    }
   ],
   "source": [
    "#get the optimized kernel\n",
    "from qiskit_machine_learning.kernels.algorithms.quantum_kernel_trainer import QuantumKernelTrainer\n",
    "from qiskit_algorithms.optimizers import SPSA\n",
    "from qiskit_machine_learning.utils.loss_functions import SVCLoss\n",
    "\n",
    "\n",
    "spsa_opt = SPSA(maxiter=2, learning_rate=0.03, perturbation=0.01)\n",
    "loss_func = SVCLoss(C=1.0)\n",
    "\n",
    "#one initial point per trainable parameter\n",
    "init_point=[np.pi/2]\n",
    "\n",
    "qk_trainer = QuantumKernelTrainer(quantum_kernel=q_kernel, loss=loss_func, initial_point= init_point)\n",
    "qkt_results = qk_trainer.fit(X_train, y_train)\n",
    "\n",
    "optimized_kernel = qkt_results.quantum_kernel"
   ]
  },
  {
   "cell_type": "markdown",
   "source": [
    "# AAARGH! Except it does not work!!!!\n",
    "\n",
    "Francesco, can you try the notebook this far?"
   ],
   "metadata": {
    "collapsed": false
   }
  },
  {
   "cell_type": "code",
   "execution_count": 40,
   "metadata": {},
   "outputs": [],
   "source": [
    "from qiskit_machine_learning.algorithms.classifiers import QSVC\n",
    "qsvc = QSVC(quantum_kernel=optimized_kernel)"
   ]
  },
  {
   "cell_type": "code",
   "execution_count": 41,
   "metadata": {},
   "outputs": [
    {
     "data": {
      "text/html": [
       "<style>#sk-container-id-3 {\n",
       "  /* Definition of color scheme common for light and dark mode */\n",
       "  --sklearn-color-text: black;\n",
       "  --sklearn-color-line: gray;\n",
       "  /* Definition of color scheme for unfitted estimators */\n",
       "  --sklearn-color-unfitted-level-0: #fff5e6;\n",
       "  --sklearn-color-unfitted-level-1: #f6e4d2;\n",
       "  --sklearn-color-unfitted-level-2: #ffe0b3;\n",
       "  --sklearn-color-unfitted-level-3: chocolate;\n",
       "  /* Definition of color scheme for fitted estimators */\n",
       "  --sklearn-color-fitted-level-0: #f0f8ff;\n",
       "  --sklearn-color-fitted-level-1: #d4ebff;\n",
       "  --sklearn-color-fitted-level-2: #b3dbfd;\n",
       "  --sklearn-color-fitted-level-3: cornflowerblue;\n",
       "\n",
       "  /* Specific color for light theme */\n",
       "  --sklearn-color-text-on-default-background: var(--sg-text-color, var(--theme-code-foreground, var(--jp-content-font-color1, black)));\n",
       "  --sklearn-color-background: var(--sg-background-color, var(--theme-background, var(--jp-layout-color0, white)));\n",
       "  --sklearn-color-border-box: var(--sg-text-color, var(--theme-code-foreground, var(--jp-content-font-color1, black)));\n",
       "  --sklearn-color-icon: #696969;\n",
       "\n",
       "  @media (prefers-color-scheme: dark) {\n",
       "    /* Redefinition of color scheme for dark theme */\n",
       "    --sklearn-color-text-on-default-background: var(--sg-text-color, var(--theme-code-foreground, var(--jp-content-font-color1, white)));\n",
       "    --sklearn-color-background: var(--sg-background-color, var(--theme-background, var(--jp-layout-color0, #111)));\n",
       "    --sklearn-color-border-box: var(--sg-text-color, var(--theme-code-foreground, var(--jp-content-font-color1, white)));\n",
       "    --sklearn-color-icon: #878787;\n",
       "  }\n",
       "}\n",
       "\n",
       "#sk-container-id-3 {\n",
       "  color: var(--sklearn-color-text);\n",
       "}\n",
       "\n",
       "#sk-container-id-3 pre {\n",
       "  padding: 0;\n",
       "}\n",
       "\n",
       "#sk-container-id-3 input.sk-hidden--visually {\n",
       "  border: 0;\n",
       "  clip: rect(1px 1px 1px 1px);\n",
       "  clip: rect(1px, 1px, 1px, 1px);\n",
       "  height: 1px;\n",
       "  margin: -1px;\n",
       "  overflow: hidden;\n",
       "  padding: 0;\n",
       "  position: absolute;\n",
       "  width: 1px;\n",
       "}\n",
       "\n",
       "#sk-container-id-3 div.sk-dashed-wrapped {\n",
       "  border: 1px dashed var(--sklearn-color-line);\n",
       "  margin: 0 0.4em 0.5em 0.4em;\n",
       "  box-sizing: border-box;\n",
       "  padding-bottom: 0.4em;\n",
       "  background-color: var(--sklearn-color-background);\n",
       "}\n",
       "\n",
       "#sk-container-id-3 div.sk-container {\n",
       "  /* jupyter's `normalize.less` sets `[hidden] { display: none; }`\n",
       "     but bootstrap.min.css set `[hidden] { display: none !important; }`\n",
       "     so we also need the `!important` here to be able to override the\n",
       "     default hidden behavior on the sphinx rendered scikit-learn.org.\n",
       "     See: https://github.com/scikit-learn/scikit-learn/issues/21755 */\n",
       "  display: inline-block !important;\n",
       "  position: relative;\n",
       "}\n",
       "\n",
       "#sk-container-id-3 div.sk-text-repr-fallback {\n",
       "  display: none;\n",
       "}\n",
       "\n",
       "div.sk-parallel-item,\n",
       "div.sk-serial,\n",
       "div.sk-item {\n",
       "  /* draw centered vertical line to link estimators */\n",
       "  background-image: linear-gradient(var(--sklearn-color-text-on-default-background), var(--sklearn-color-text-on-default-background));\n",
       "  background-size: 2px 100%;\n",
       "  background-repeat: no-repeat;\n",
       "  background-position: center center;\n",
       "}\n",
       "\n",
       "/* Parallel-specific style estimator block */\n",
       "\n",
       "#sk-container-id-3 div.sk-parallel-item::after {\n",
       "  content: \"\";\n",
       "  width: 100%;\n",
       "  border-bottom: 2px solid var(--sklearn-color-text-on-default-background);\n",
       "  flex-grow: 1;\n",
       "}\n",
       "\n",
       "#sk-container-id-3 div.sk-parallel {\n",
       "  display: flex;\n",
       "  align-items: stretch;\n",
       "  justify-content: center;\n",
       "  background-color: var(--sklearn-color-background);\n",
       "  position: relative;\n",
       "}\n",
       "\n",
       "#sk-container-id-3 div.sk-parallel-item {\n",
       "  display: flex;\n",
       "  flex-direction: column;\n",
       "}\n",
       "\n",
       "#sk-container-id-3 div.sk-parallel-item:first-child::after {\n",
       "  align-self: flex-end;\n",
       "  width: 50%;\n",
       "}\n",
       "\n",
       "#sk-container-id-3 div.sk-parallel-item:last-child::after {\n",
       "  align-self: flex-start;\n",
       "  width: 50%;\n",
       "}\n",
       "\n",
       "#sk-container-id-3 div.sk-parallel-item:only-child::after {\n",
       "  width: 0;\n",
       "}\n",
       "\n",
       "/* Serial-specific style estimator block */\n",
       "\n",
       "#sk-container-id-3 div.sk-serial {\n",
       "  display: flex;\n",
       "  flex-direction: column;\n",
       "  align-items: center;\n",
       "  background-color: var(--sklearn-color-background);\n",
       "  padding-right: 1em;\n",
       "  padding-left: 1em;\n",
       "}\n",
       "\n",
       "\n",
       "/* Toggleable style: style used for estimator/Pipeline/ColumnTransformer box that is\n",
       "clickable and can be expanded/collapsed.\n",
       "- Pipeline and ColumnTransformer use this feature and define the default style\n",
       "- Estimators will overwrite some part of the style using the `sk-estimator` class\n",
       "*/\n",
       "\n",
       "/* Pipeline and ColumnTransformer style (default) */\n",
       "\n",
       "#sk-container-id-3 div.sk-toggleable {\n",
       "  /* Default theme specific background. It is overwritten whether we have a\n",
       "  specific estimator or a Pipeline/ColumnTransformer */\n",
       "  background-color: var(--sklearn-color-background);\n",
       "}\n",
       "\n",
       "/* Toggleable label */\n",
       "#sk-container-id-3 label.sk-toggleable__label {\n",
       "  cursor: pointer;\n",
       "  display: block;\n",
       "  width: 100%;\n",
       "  margin-bottom: 0;\n",
       "  padding: 0.5em;\n",
       "  box-sizing: border-box;\n",
       "  text-align: center;\n",
       "}\n",
       "\n",
       "#sk-container-id-3 label.sk-toggleable__label-arrow:before {\n",
       "  /* Arrow on the left of the label */\n",
       "  content: \"▸\";\n",
       "  float: left;\n",
       "  margin-right: 0.25em;\n",
       "  color: var(--sklearn-color-icon);\n",
       "}\n",
       "\n",
       "#sk-container-id-3 label.sk-toggleable__label-arrow:hover:before {\n",
       "  color: var(--sklearn-color-text);\n",
       "}\n",
       "\n",
       "/* Toggleable content - dropdown */\n",
       "\n",
       "#sk-container-id-3 div.sk-toggleable__content {\n",
       "  max-height: 0;\n",
       "  max-width: 0;\n",
       "  overflow: hidden;\n",
       "  text-align: left;\n",
       "  /* unfitted */\n",
       "  background-color: var(--sklearn-color-unfitted-level-0);\n",
       "}\n",
       "\n",
       "#sk-container-id-3 div.sk-toggleable__content.fitted {\n",
       "  /* fitted */\n",
       "  background-color: var(--sklearn-color-fitted-level-0);\n",
       "}\n",
       "\n",
       "#sk-container-id-3 div.sk-toggleable__content pre {\n",
       "  margin: 0.2em;\n",
       "  border-radius: 0.25em;\n",
       "  color: var(--sklearn-color-text);\n",
       "  /* unfitted */\n",
       "  background-color: var(--sklearn-color-unfitted-level-0);\n",
       "}\n",
       "\n",
       "#sk-container-id-3 div.sk-toggleable__content.fitted pre {\n",
       "  /* unfitted */\n",
       "  background-color: var(--sklearn-color-fitted-level-0);\n",
       "}\n",
       "\n",
       "#sk-container-id-3 input.sk-toggleable__control:checked~div.sk-toggleable__content {\n",
       "  /* Expand drop-down */\n",
       "  max-height: 200px;\n",
       "  max-width: 100%;\n",
       "  overflow: auto;\n",
       "}\n",
       "\n",
       "#sk-container-id-3 input.sk-toggleable__control:checked~label.sk-toggleable__label-arrow:before {\n",
       "  content: \"▾\";\n",
       "}\n",
       "\n",
       "/* Pipeline/ColumnTransformer-specific style */\n",
       "\n",
       "#sk-container-id-3 div.sk-label input.sk-toggleable__control:checked~label.sk-toggleable__label {\n",
       "  color: var(--sklearn-color-text);\n",
       "  background-color: var(--sklearn-color-unfitted-level-2);\n",
       "}\n",
       "\n",
       "#sk-container-id-3 div.sk-label.fitted input.sk-toggleable__control:checked~label.sk-toggleable__label {\n",
       "  background-color: var(--sklearn-color-fitted-level-2);\n",
       "}\n",
       "\n",
       "/* Estimator-specific style */\n",
       "\n",
       "/* Colorize estimator box */\n",
       "#sk-container-id-3 div.sk-estimator input.sk-toggleable__control:checked~label.sk-toggleable__label {\n",
       "  /* unfitted */\n",
       "  background-color: var(--sklearn-color-unfitted-level-2);\n",
       "}\n",
       "\n",
       "#sk-container-id-3 div.sk-estimator.fitted input.sk-toggleable__control:checked~label.sk-toggleable__label {\n",
       "  /* fitted */\n",
       "  background-color: var(--sklearn-color-fitted-level-2);\n",
       "}\n",
       "\n",
       "#sk-container-id-3 div.sk-label label.sk-toggleable__label,\n",
       "#sk-container-id-3 div.sk-label label {\n",
       "  /* The background is the default theme color */\n",
       "  color: var(--sklearn-color-text-on-default-background);\n",
       "}\n",
       "\n",
       "/* On hover, darken the color of the background */\n",
       "#sk-container-id-3 div.sk-label:hover label.sk-toggleable__label {\n",
       "  color: var(--sklearn-color-text);\n",
       "  background-color: var(--sklearn-color-unfitted-level-2);\n",
       "}\n",
       "\n",
       "/* Label box, darken color on hover, fitted */\n",
       "#sk-container-id-3 div.sk-label.fitted:hover label.sk-toggleable__label.fitted {\n",
       "  color: var(--sklearn-color-text);\n",
       "  background-color: var(--sklearn-color-fitted-level-2);\n",
       "}\n",
       "\n",
       "/* Estimator label */\n",
       "\n",
       "#sk-container-id-3 div.sk-label label {\n",
       "  font-family: monospace;\n",
       "  font-weight: bold;\n",
       "  display: inline-block;\n",
       "  line-height: 1.2em;\n",
       "}\n",
       "\n",
       "#sk-container-id-3 div.sk-label-container {\n",
       "  text-align: center;\n",
       "}\n",
       "\n",
       "/* Estimator-specific */\n",
       "#sk-container-id-3 div.sk-estimator {\n",
       "  font-family: monospace;\n",
       "  border: 1px dotted var(--sklearn-color-border-box);\n",
       "  border-radius: 0.25em;\n",
       "  box-sizing: border-box;\n",
       "  margin-bottom: 0.5em;\n",
       "  /* unfitted */\n",
       "  background-color: var(--sklearn-color-unfitted-level-0);\n",
       "}\n",
       "\n",
       "#sk-container-id-3 div.sk-estimator.fitted {\n",
       "  /* fitted */\n",
       "  background-color: var(--sklearn-color-fitted-level-0);\n",
       "}\n",
       "\n",
       "/* on hover */\n",
       "#sk-container-id-3 div.sk-estimator:hover {\n",
       "  /* unfitted */\n",
       "  background-color: var(--sklearn-color-unfitted-level-2);\n",
       "}\n",
       "\n",
       "#sk-container-id-3 div.sk-estimator.fitted:hover {\n",
       "  /* fitted */\n",
       "  background-color: var(--sklearn-color-fitted-level-2);\n",
       "}\n",
       "\n",
       "/* Specification for estimator info (e.g. \"i\" and \"?\") */\n",
       "\n",
       "/* Common style for \"i\" and \"?\" */\n",
       "\n",
       ".sk-estimator-doc-link,\n",
       "a:link.sk-estimator-doc-link,\n",
       "a:visited.sk-estimator-doc-link {\n",
       "  float: right;\n",
       "  font-size: smaller;\n",
       "  line-height: 1em;\n",
       "  font-family: monospace;\n",
       "  background-color: var(--sklearn-color-background);\n",
       "  border-radius: 1em;\n",
       "  height: 1em;\n",
       "  width: 1em;\n",
       "  text-decoration: none !important;\n",
       "  margin-left: 1ex;\n",
       "  /* unfitted */\n",
       "  border: var(--sklearn-color-unfitted-level-1) 1pt solid;\n",
       "  color: var(--sklearn-color-unfitted-level-1);\n",
       "}\n",
       "\n",
       ".sk-estimator-doc-link.fitted,\n",
       "a:link.sk-estimator-doc-link.fitted,\n",
       "a:visited.sk-estimator-doc-link.fitted {\n",
       "  /* fitted */\n",
       "  border: var(--sklearn-color-fitted-level-1) 1pt solid;\n",
       "  color: var(--sklearn-color-fitted-level-1);\n",
       "}\n",
       "\n",
       "/* On hover */\n",
       "div.sk-estimator:hover .sk-estimator-doc-link:hover,\n",
       ".sk-estimator-doc-link:hover,\n",
       "div.sk-label-container:hover .sk-estimator-doc-link:hover,\n",
       ".sk-estimator-doc-link:hover {\n",
       "  /* unfitted */\n",
       "  background-color: var(--sklearn-color-unfitted-level-3);\n",
       "  color: var(--sklearn-color-background);\n",
       "  text-decoration: none;\n",
       "}\n",
       "\n",
       "div.sk-estimator.fitted:hover .sk-estimator-doc-link.fitted:hover,\n",
       ".sk-estimator-doc-link.fitted:hover,\n",
       "div.sk-label-container:hover .sk-estimator-doc-link.fitted:hover,\n",
       ".sk-estimator-doc-link.fitted:hover {\n",
       "  /* fitted */\n",
       "  background-color: var(--sklearn-color-fitted-level-3);\n",
       "  color: var(--sklearn-color-background);\n",
       "  text-decoration: none;\n",
       "}\n",
       "\n",
       "/* Span, style for the box shown on hovering the info icon */\n",
       ".sk-estimator-doc-link span {\n",
       "  display: none;\n",
       "  z-index: 9999;\n",
       "  position: relative;\n",
       "  font-weight: normal;\n",
       "  right: .2ex;\n",
       "  padding: .5ex;\n",
       "  margin: .5ex;\n",
       "  width: min-content;\n",
       "  min-width: 20ex;\n",
       "  max-width: 50ex;\n",
       "  color: var(--sklearn-color-text);\n",
       "  box-shadow: 2pt 2pt 4pt #999;\n",
       "  /* unfitted */\n",
       "  background: var(--sklearn-color-unfitted-level-0);\n",
       "  border: .5pt solid var(--sklearn-color-unfitted-level-3);\n",
       "}\n",
       "\n",
       ".sk-estimator-doc-link.fitted span {\n",
       "  /* fitted */\n",
       "  background: var(--sklearn-color-fitted-level-0);\n",
       "  border: var(--sklearn-color-fitted-level-3);\n",
       "}\n",
       "\n",
       ".sk-estimator-doc-link:hover span {\n",
       "  display: block;\n",
       "}\n",
       "\n",
       "/* \"?\"-specific style due to the `<a>` HTML tag */\n",
       "\n",
       "#sk-container-id-3 a.estimator_doc_link {\n",
       "  float: right;\n",
       "  font-size: 1rem;\n",
       "  line-height: 1em;\n",
       "  font-family: monospace;\n",
       "  background-color: var(--sklearn-color-background);\n",
       "  border-radius: 1rem;\n",
       "  height: 1rem;\n",
       "  width: 1rem;\n",
       "  text-decoration: none;\n",
       "  /* unfitted */\n",
       "  color: var(--sklearn-color-unfitted-level-1);\n",
       "  border: var(--sklearn-color-unfitted-level-1) 1pt solid;\n",
       "}\n",
       "\n",
       "#sk-container-id-3 a.estimator_doc_link.fitted {\n",
       "  /* fitted */\n",
       "  border: var(--sklearn-color-fitted-level-1) 1pt solid;\n",
       "  color: var(--sklearn-color-fitted-level-1);\n",
       "}\n",
       "\n",
       "/* On hover */\n",
       "#sk-container-id-3 a.estimator_doc_link:hover {\n",
       "  /* unfitted */\n",
       "  background-color: var(--sklearn-color-unfitted-level-3);\n",
       "  color: var(--sklearn-color-background);\n",
       "  text-decoration: none;\n",
       "}\n",
       "\n",
       "#sk-container-id-3 a.estimator_doc_link.fitted:hover {\n",
       "  /* fitted */\n",
       "  background-color: var(--sklearn-color-fitted-level-3);\n",
       "}\n",
       "</style><div id=\"sk-container-id-3\" class=\"sk-top-container\"><div class=\"sk-text-repr-fallback\"><pre>QSVC(C=1.0, break_ties=False, cache_size=200, class_weight=None, coef0=0.0,\n",
       "     decision_function_shape=&#x27;ovr&#x27;, degree=3, gamma=&#x27;scale&#x27;, max_iter=-1,\n",
       "     probability=False,\n",
       "     quantum_kernel=&lt;qiskit_machine_learning.kernels.trainable_fidelity_statevector_kernel.TrainableFidelityStatevectorKernel object at 0x75ecc4e581d0&gt;,\n",
       "     random_state=None, shrinking=True, tol=0.001, verbose=False)</pre><b>In a Jupyter environment, please rerun this cell to show the HTML representation or trust the notebook. <br />On GitHub, the HTML representation is unable to render, please try loading this page with nbviewer.org.</b></div><div class=\"sk-container\" hidden><div class=\"sk-item\"><div class=\"sk-estimator fitted sk-toggleable\"><input class=\"sk-toggleable__control sk-hidden--visually\" id=\"sk-estimator-id-3\" type=\"checkbox\" checked><label for=\"sk-estimator-id-3\" class=\"sk-toggleable__label fitted sk-toggleable__label-arrow fitted\">&nbsp;QSVC<span class=\"sk-estimator-doc-link fitted\">i<span>Fitted</span></span></label><div class=\"sk-toggleable__content fitted\"><pre>QSVC(C=1.0, break_ties=False, cache_size=200, class_weight=None, coef0=0.0,\n",
       "     decision_function_shape=&#x27;ovr&#x27;, degree=3, gamma=&#x27;scale&#x27;, max_iter=-1,\n",
       "     probability=False,\n",
       "     quantum_kernel=&lt;qiskit_machine_learning.kernels.trainable_fidelity_statevector_kernel.TrainableFidelityStatevectorKernel object at 0x75ecc4e581d0&gt;,\n",
       "     random_state=None, shrinking=True, tol=0.001, verbose=False)</pre></div> </div></div></div></div>"
      ],
      "text/plain": [
       "QSVC(C=1.0, break_ties=False, cache_size=200, class_weight=None, coef0=0.0,\n",
       "     decision_function_shape='ovr', degree=3, gamma='scale', max_iter=-1,\n",
       "     probability=False,\n",
       "     quantum_kernel=<qiskit_machine_learning.kernels.trainable_fidelity_statevector_kernel.TrainableFidelityStatevectorKernel object at 0x75ecc4e581d0>,\n",
       "     random_state=None, shrinking=True, tol=0.001, verbose=False)"
      ]
     },
     "execution_count": 41,
     "metadata": {},
     "output_type": "execute_result"
    }
   ],
   "source": [
    "#trainingprediction...\n",
    "qsvc.fit(X_train, y_train)"
   ]
  },
  {
   "cell_type": "code",
   "execution_count": 42,
   "metadata": {},
   "outputs": [
    {
     "data": {
      "text/plain": [
       "0.8055555555555556"
      ]
     },
     "execution_count": 42,
     "metadata": {},
     "output_type": "execute_result"
    }
   ],
   "source": [
    "from sklearn.metrics import accuracy_score\n",
    "\n",
    "#result...\n",
    "predictions = qsvc.predict(X_test)\n",
    "accuracy_score(predictions, y_test)\n",
    "\n"
   ]
  }
 ],
 "metadata": {
  "kernelspec": {
   "display_name": ".venv",
   "language": "python",
   "name": "python3"
  },
  "language_info": {
   "codemirror_mode": {
    "name": "ipython",
    "version": 3
   },
   "file_extension": ".py",
   "mimetype": "text/x-python",
   "name": "python",
   "nbconvert_exporter": "python",
   "pygments_lexer": "ipython3",
   "version": "3.12.3"
  }
 },
 "nbformat": 4,
 "nbformat_minor": 2
}
