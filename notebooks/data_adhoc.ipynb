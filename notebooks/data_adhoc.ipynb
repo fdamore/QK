{
 "cells": [
  {
   "cell_type": "code",
   "execution_count": 27,
   "metadata": {},
   "outputs": [
    {
     "name": "stdout",
     "output_type": "stream",
     "text": [
      "The autoreload extension is already loaded. To reload it, use:\n",
      "  %reload_ext autoreload\n"
     ]
    }
   ],
   "source": [
    "%load_ext autoreload\n",
    "%autoreload 2"
   ]
  },
  {
   "cell_type": "code",
   "execution_count": 28,
   "metadata": {},
   "outputs": [],
   "source": [
    "#needed to import qke procedures\n",
    "import sys\n",
    "from pathlib import Path\n",
    "import numpy as np\n",
    "\n",
    "main_dir = str(Path().resolve().parent)\n",
    "sys.path.insert(1, main_dir)\n",
    "\n",
    "\n",
    "#set the seed\n",
    "np.random.seed(123)"
   ]
  },
  {
   "cell_type": "code",
   "execution_count": 29,
   "metadata": {},
   "outputs": [],
   "source": [
    "#load data ad hoc\n",
    "\n",
    "from qiskit_machine_learning.datasets import ad_hoc_data\n",
    "\n",
    "adhoc_dimension = 3\n",
    "X_train, y_train, X_test, y_test, adhoc_total = ad_hoc_data(\n",
    "    training_size=30,\n",
    "    test_size=5,\n",
    "    n=adhoc_dimension,\n",
    "    gap=0.3,\n",
    "    plot_data=False,\n",
    "    one_hot=False,\n",
    "    include_sample_total=True,\n",
    ")"
   ]
  },
  {
   "cell_type": "code",
   "execution_count": 30,
   "metadata": {},
   "outputs": [
    {
     "name": "stdout",
     "output_type": "stream",
     "text": [
      "Max number of iteration used in kernel optimization: 20\n",
      "Training shape dataset (60, 3)\n",
      "Label for traing (60,)\n",
      "Test shape dataset (10, 3)\n",
      "Label for test (10,)\n",
      "NUM_QUBIT 3\n"
     ]
    }
   ],
   "source": [
    "max_iter = 20\n",
    "NUM_QBIT = X_train.shape[1] # nqubit = nuber of dimension (feature)\n",
    "\n",
    "#check the shape of test> and training dataset\n",
    "print(f'Max number of iteration used in kernel optimization: {max_iter}')\n",
    "print(f'Training shape dataset {X_train.shape}')\n",
    "print(f'Label for traing {y_train.shape}')\n",
    "print(f'Test shape dataset {X_test.shape}')\n",
    "print(f'Label for test {y_test.shape}')\n",
    "print(f'NUM_QUBIT {NUM_QBIT}')"
   ]
  },
  {
   "cell_type": "code",
   "execution_count": 31,
   "metadata": {},
   "outputs": [],
   "source": [
    "#define the callback\n",
    "from qke.QKCallback import QKCallback\n",
    "my_callback = QKCallback()"
   ]
  },
  {
   "cell_type": "code",
   "execution_count": 32,
   "metadata": {},
   "outputs": [
    {
     "data": {
      "image/png": "[encoded data removed]",
      "text/plain": [
       "<Figure size 454.719x284.278 with 1 Axes>"
      ]
     },
     "execution_count": 32,
     "metadata": {},
     "output_type": "execute_result"
    }
   ],
   "source": [
    "#get the feature mao\n",
    "from qke.TrainableCircuits import TrainableCircuits\n",
    "\n",
    "qc_trainable = TrainableCircuits.zzfm(n_wire=NUM_QBIT)\n",
    "\n",
    "fm = qc_trainable.qc\n",
    "training_params = qc_trainable.training_parameters\n",
    "\n",
    "\n",
    "fm.draw('mpl')"
   ]
  },
  {
   "cell_type": "code",
   "execution_count": 34,
   "metadata": {},
   "outputs": [
    {
     "name": "stdout",
     "output_type": "stream",
     "text": [
      "The QMeasure function used: StateVectorEstimator\n",
      "The classical kernel used: rbf\n",
      "The observables we use: ['ZIIIII', 'IZIIII', 'IIZIII', 'IIIZII', 'IIIIZI', 'IIIIIZ']\n",
      "The numbers of shots (if applicable) for (qiskit) primitive estimator: 100\n",
      "Initial point: [0.55131477 0.71946897 0.42310646]\n"
     ]
    }
   ],
   "source": [
    "#define the trainable kernel\n",
    "from qke.CKernels import CKernels\n",
    "from qke.QMeasures import QMeasures\n",
    "from qke.TrainableKernelFeatureMap import TrainableKernelFeatureMap\n",
    "from qiskit_algorithms.optimizers import SPSA\n",
    "from qiskit_machine_learning.utils.loss_functions import SVCLoss\n",
    "\n",
    "my_obs = ['ZII', 'IZI','IIZ']\n",
    "nshots = 100 #paramenter using primitive estimator\n",
    "measure_fn = QMeasures.StateVectorEstimator\n",
    "kernel = CKernels.linear\n",
    "\n",
    "#using kernel feature map (change the q_kernel in order to modiy the trainable kernel)\n",
    "q_kernel = TrainableKernelFeatureMap(feature_map=fm, training_parameters=training_params)\n",
    "q_kernel.configure(obs=my_obs, nshots=nshots, q_measure=QMeasures.StateVectorEstimator, c_kernel=CKernels.rbf)\n",
    "\n",
    "#define updater, loss and inizial param\n",
    "spsa_opt = SPSA(maxiter=max_iter, learning_rate=0.03, perturbation=0.01, termination_checker=my_callback.callback)\n",
    "loss_func = SVCLoss(C=1.0)\n",
    "init_point = np.random.uniform(size=NUM_QBIT)\n",
    "\n",
    "#print this info\n",
    "print(f'The QMeasure function used: {q_kernel.q_measure.__name__}')\n",
    "print(f'The classical kernel used: {q_kernel.kernel.__name__}')\n",
    "print(f'The observables we use: {my_obs}')\n",
    "print(f'The numbers of shots (if applicable) for (qiskit) primitive estimator: {nshots}')\n",
    "print(f'Initial point: {init_point}')\n"
   ]
  },
  {
   "cell_type": "code",
   "execution_count": 36,
   "metadata": {},
   "outputs": [
    {
     "ename": "ValueError",
     "evalue": "The number of qubits of the circuit (3) does not match the number of qubits of the (0,)-th observable (6).",
     "output_type": "error",
     "traceback": [
      "\u001b[0;31m---------------------------------------------------------------------------\u001b[0m",
      "\u001b[0;31mValueError\u001b[0m                                Traceback (most recent call last)",
      "Cell \u001b[0;32mIn[36], line 11\u001b[0m\n\u001b[1;32m      8\u001b[0m training_kernel_start \u001b[38;5;241m=\u001b[39m time\u001b[38;5;241m.\u001b[39mtime()\n\u001b[1;32m     10\u001b[0m qk_trainer \u001b[38;5;241m=\u001b[39m QuantumKernelTrainer(quantum_kernel\u001b[38;5;241m=\u001b[39mq_kernel, loss\u001b[38;5;241m=\u001b[39mloss_func, initial_point\u001b[38;5;241m=\u001b[39m init_point, optimizer\u001b[38;5;241m=\u001b[39mspsa_opt)\n\u001b[0;32m---> 11\u001b[0m qkt_results \u001b[38;5;241m=\u001b[39m \u001b[43mqk_trainer\u001b[49m\u001b[38;5;241;43m.\u001b[39;49m\u001b[43mfit\u001b[49m\u001b[43m(\u001b[49m\u001b[43mX_train\u001b[49m\u001b[43m,\u001b[49m\u001b[43m \u001b[49m\u001b[43my_train\u001b[49m\u001b[43m)\u001b[49m\n\u001b[1;32m     12\u001b[0m optimized_kernel \u001b[38;5;241m=\u001b[39m qkt_results\u001b[38;5;241m.\u001b[39mquantum_kernel\n\u001b[1;32m     14\u001b[0m training_kernel_end \u001b[38;5;241m=\u001b[39m time\u001b[38;5;241m.\u001b[39mtime()\n",
      "File \u001b[0;32m~/git/QK/.venv/lib/python3.12/site-packages/qiskit_machine_learning/kernels/algorithms/quantum_kernel_trainer.py:212\u001b[0m, in \u001b[0;36mQuantumKernelTrainer.fit\u001b[0;34m(self, data, labels)\u001b[0m\n\u001b[1;32m    210\u001b[0m     opt_results \u001b[38;5;241m=\u001b[39m \u001b[38;5;28mself\u001b[39m\u001b[38;5;241m.\u001b[39m_optimizer(fun\u001b[38;5;241m=\u001b[39mloss_function, x0\u001b[38;5;241m=\u001b[39m\u001b[38;5;28mself\u001b[39m\u001b[38;5;241m.\u001b[39m_initial_point)\n\u001b[1;32m    211\u001b[0m \u001b[38;5;28;01melse\u001b[39;00m:\n\u001b[0;32m--> 212\u001b[0m     opt_results \u001b[38;5;241m=\u001b[39m \u001b[38;5;28;43mself\u001b[39;49m\u001b[38;5;241;43m.\u001b[39;49m\u001b[43m_optimizer\u001b[49m\u001b[38;5;241;43m.\u001b[39;49m\u001b[43mminimize\u001b[49m\u001b[43m(\u001b[49m\n\u001b[1;32m    213\u001b[0m \u001b[43m        \u001b[49m\u001b[43mfun\u001b[49m\u001b[38;5;241;43m=\u001b[39;49m\u001b[43mloss_function\u001b[49m\u001b[43m,\u001b[49m\n\u001b[1;32m    214\u001b[0m \u001b[43m        \u001b[49m\u001b[43mx0\u001b[49m\u001b[38;5;241;43m=\u001b[39;49m\u001b[38;5;28;43mself\u001b[39;49m\u001b[38;5;241;43m.\u001b[39;49m\u001b[43m_initial_point\u001b[49m\u001b[43m,\u001b[49m\n\u001b[1;32m    215\u001b[0m \u001b[43m    \u001b[49m\u001b[43m)\u001b[49m\n\u001b[1;32m    217\u001b[0m \u001b[38;5;66;03m# Return kernel training results\u001b[39;00m\n\u001b[1;32m    218\u001b[0m result \u001b[38;5;241m=\u001b[39m QuantumKernelTrainerResult()\n",
      "File \u001b[0;32m~/git/QK/.venv/lib/python3.12/site-packages/qiskit_algorithms/optimizers/spsa.py:558\u001b[0m, in \u001b[0;36mSPSA.minimize\u001b[0;34m(self, fun, x0, jac, bounds)\u001b[0m\n\u001b[1;32m    556\u001b[0m iteration_start \u001b[38;5;241m=\u001b[39m time()\n\u001b[1;32m    557\u001b[0m \u001b[38;5;66;03m# compute update\u001b[39;00m\n\u001b[0;32m--> 558\u001b[0m fx_estimate, update \u001b[38;5;241m=\u001b[39m \u001b[38;5;28;43mself\u001b[39;49m\u001b[38;5;241;43m.\u001b[39;49m\u001b[43m_compute_update\u001b[49m\u001b[43m(\u001b[49m\u001b[43mfun\u001b[49m\u001b[43m,\u001b[49m\u001b[43m \u001b[49m\u001b[43mx\u001b[49m\u001b[43m,\u001b[49m\u001b[43m \u001b[49m\u001b[43mk\u001b[49m\u001b[43m,\u001b[49m\u001b[43m \u001b[49m\u001b[38;5;28;43mnext\u001b[39;49m\u001b[43m(\u001b[49m\u001b[43meps\u001b[49m\u001b[43m)\u001b[49m\u001b[43m,\u001b[49m\u001b[43m \u001b[49m\u001b[43mlse_solver\u001b[49m\u001b[43m)\u001b[49m\n\u001b[1;32m    560\u001b[0m \u001b[38;5;66;03m# trust region\u001b[39;00m\n\u001b[1;32m    561\u001b[0m \u001b[38;5;28;01mif\u001b[39;00m \u001b[38;5;28mself\u001b[39m\u001b[38;5;241m.\u001b[39mtrust_region:\n",
      "File \u001b[0;32m~/git/QK/.venv/lib/python3.12/site-packages/qiskit_algorithms/optimizers/spsa.py:489\u001b[0m, in \u001b[0;36mSPSA._compute_update\u001b[0;34m(self, loss, x, k, eps, lse_solver)\u001b[0m\n\u001b[1;32m    486\u001b[0m     num_samples \u001b[38;5;241m=\u001b[39m \u001b[38;5;28mself\u001b[39m\u001b[38;5;241m.\u001b[39mresamplings\n\u001b[1;32m    488\u001b[0m \u001b[38;5;66;03m# accumulate the number of samples\u001b[39;00m\n\u001b[0;32m--> 489\u001b[0m value, gradient, hessian \u001b[38;5;241m=\u001b[39m \u001b[38;5;28;43mself\u001b[39;49m\u001b[38;5;241;43m.\u001b[39;49m\u001b[43m_point_estimate\u001b[49m\u001b[43m(\u001b[49m\u001b[43mloss\u001b[49m\u001b[43m,\u001b[49m\u001b[43m \u001b[49m\u001b[43mx\u001b[49m\u001b[43m,\u001b[49m\u001b[43m \u001b[49m\u001b[43meps\u001b[49m\u001b[43m,\u001b[49m\u001b[43m \u001b[49m\u001b[43mnum_samples\u001b[49m\u001b[43m)\u001b[49m\n\u001b[1;32m    491\u001b[0m \u001b[38;5;66;03m# precondition gradient with inverse Hessian, if specified\u001b[39;00m\n\u001b[1;32m    492\u001b[0m \u001b[38;5;28;01mif\u001b[39;00m \u001b[38;5;28mself\u001b[39m\u001b[38;5;241m.\u001b[39msecond_order:\n",
      "File \u001b[0;32m~/git/QK/.venv/lib/python3.12/site-packages/qiskit_algorithms/optimizers/spsa.py:466\u001b[0m, in \u001b[0;36mSPSA._point_estimate\u001b[0;34m(self, loss, x, eps, num_samples)\u001b[0m\n\u001b[1;32m    463\u001b[0m delta1 \u001b[38;5;241m=\u001b[39m deltas1[i]\n\u001b[1;32m    464\u001b[0m delta2 \u001b[38;5;241m=\u001b[39m deltas2[i] \u001b[38;5;28;01mif\u001b[39;00m \u001b[38;5;28mself\u001b[39m\u001b[38;5;241m.\u001b[39msecond_order \u001b[38;5;28;01melse\u001b[39;00m \u001b[38;5;28;01mNone\u001b[39;00m\n\u001b[0;32m--> 466\u001b[0m value_sample, gradient_sample, hessian_sample \u001b[38;5;241m=\u001b[39m \u001b[38;5;28;43mself\u001b[39;49m\u001b[38;5;241;43m.\u001b[39;49m\u001b[43m_point_sample\u001b[49m\u001b[43m(\u001b[49m\n\u001b[1;32m    467\u001b[0m \u001b[43m    \u001b[49m\u001b[43mloss\u001b[49m\u001b[43m,\u001b[49m\u001b[43m \u001b[49m\u001b[43mx\u001b[49m\u001b[43m,\u001b[49m\u001b[43m \u001b[49m\u001b[43meps\u001b[49m\u001b[43m,\u001b[49m\u001b[43m \u001b[49m\u001b[43mdelta1\u001b[49m\u001b[43m,\u001b[49m\u001b[43m \u001b[49m\u001b[43mdelta2\u001b[49m\n\u001b[1;32m    468\u001b[0m \u001b[43m\u001b[49m\u001b[43m)\u001b[49m\n\u001b[1;32m    469\u001b[0m value_estimate \u001b[38;5;241m+\u001b[39m\u001b[38;5;241m=\u001b[39m value_sample\n\u001b[1;32m    470\u001b[0m gradient_estimate \u001b[38;5;241m+\u001b[39m\u001b[38;5;241m=\u001b[39m gradient_sample\n",
      "File \u001b[0;32m~/git/QK/.venv/lib/python3.12/site-packages/qiskit_algorithms/optimizers/spsa.py:427\u001b[0m, in \u001b[0;36mSPSA._point_sample\u001b[0;34m(self, loss, x, eps, delta1, delta2)\u001b[0m\n\u001b[1;32m    424\u001b[0m     \u001b[38;5;28mself\u001b[39m\u001b[38;5;241m.\u001b[39m_nfev \u001b[38;5;241m+\u001b[39m\u001b[38;5;241m=\u001b[39m \u001b[38;5;241m2\u001b[39m\n\u001b[1;32m    426\u001b[0m \u001b[38;5;66;03m# batch evaluate the points (if possible)\u001b[39;00m\n\u001b[0;32m--> 427\u001b[0m values \u001b[38;5;241m=\u001b[39m \u001b[43m_batch_evaluate\u001b[49m\u001b[43m(\u001b[49m\u001b[43mloss\u001b[49m\u001b[43m,\u001b[49m\u001b[43m \u001b[49m\u001b[43mpoints\u001b[49m\u001b[43m,\u001b[49m\u001b[43m \u001b[49m\u001b[38;5;28;43mself\u001b[39;49m\u001b[38;5;241;43m.\u001b[39;49m\u001b[43m_max_evals_grouped\u001b[49m\u001b[43m)\u001b[49m\n\u001b[1;32m    429\u001b[0m plus \u001b[38;5;241m=\u001b[39m values[\u001b[38;5;241m0\u001b[39m]\n\u001b[1;32m    430\u001b[0m minus \u001b[38;5;241m=\u001b[39m values[\u001b[38;5;241m1\u001b[39m]\n",
      "File \u001b[0;32m~/git/QK/.venv/lib/python3.12/site-packages/qiskit_algorithms/optimizers/spsa.py:694\u001b[0m, in \u001b[0;36m_batch_evaluate\u001b[0;34m(function, points, max_evals_grouped, unpack_points)\u001b[0m\n\u001b[1;32m    690\u001b[0m \u001b[38;5;66;03m# if the function cannot handle lists of points as input, cover this case immediately\u001b[39;00m\n\u001b[1;32m    691\u001b[0m \u001b[38;5;28;01mif\u001b[39;00m max_evals_grouped \u001b[38;5;129;01mis\u001b[39;00m \u001b[38;5;28;01mNone\u001b[39;00m \u001b[38;5;129;01mor\u001b[39;00m max_evals_grouped \u001b[38;5;241m==\u001b[39m \u001b[38;5;241m1\u001b[39m:\n\u001b[1;32m    692\u001b[0m     \u001b[38;5;66;03m# support functions with multiple arguments where the points are given in a tuple\u001b[39;00m\n\u001b[1;32m    693\u001b[0m     \u001b[38;5;28;01mreturn\u001b[39;00m [\n\u001b[0;32m--> 694\u001b[0m         function(\u001b[38;5;241m*\u001b[39mpoint) \u001b[38;5;28;01mif\u001b[39;00m \u001b[38;5;28misinstance\u001b[39m(point, \u001b[38;5;28mtuple\u001b[39m) \u001b[38;5;28;01melse\u001b[39;00m \u001b[43mfunction\u001b[49m\u001b[43m(\u001b[49m\u001b[43mpoint\u001b[49m\u001b[43m)\u001b[49m \u001b[38;5;28;01mfor\u001b[39;00m point \u001b[38;5;129;01min\u001b[39;00m points\n\u001b[1;32m    695\u001b[0m     ]\n\u001b[1;32m    697\u001b[0m num_points \u001b[38;5;241m=\u001b[39m \u001b[38;5;28mlen\u001b[39m(points)\n\u001b[1;32m    699\u001b[0m \u001b[38;5;66;03m# get the number of batches\u001b[39;00m\n",
      "File \u001b[0;32m~/git/QK/.venv/lib/python3.12/site-packages/qiskit_machine_learning/utils/loss_functions/kernel_loss_functions.py:109\u001b[0m, in \u001b[0;36mSVCLoss.evaluate\u001b[0;34m(self, parameter_values, quantum_kernel, data, labels)\u001b[0m\n\u001b[1;32m    106\u001b[0m quantum_kernel\u001b[38;5;241m.\u001b[39massign_training_parameters(parameter_values)\n\u001b[1;32m    108\u001b[0m \u001b[38;5;66;03m# Get estimated kernel matrix\u001b[39;00m\n\u001b[0;32m--> 109\u001b[0m kmatrix \u001b[38;5;241m=\u001b[39m \u001b[43mquantum_kernel\u001b[49m\u001b[38;5;241;43m.\u001b[39;49m\u001b[43mevaluate\u001b[49m\u001b[43m(\u001b[49m\u001b[43mnp\u001b[49m\u001b[38;5;241;43m.\u001b[39;49m\u001b[43marray\u001b[49m\u001b[43m(\u001b[49m\u001b[43mdata\u001b[49m\u001b[43m)\u001b[49m\u001b[43m)\u001b[49m\n\u001b[1;32m    111\u001b[0m \u001b[38;5;66;03m# Train a quantum support vector classifier\u001b[39;00m\n\u001b[1;32m    112\u001b[0m svc \u001b[38;5;241m=\u001b[39m SVC(kernel\u001b[38;5;241m=\u001b[39m\u001b[38;5;124m\"\u001b[39m\u001b[38;5;124mprecomputed\u001b[39m\u001b[38;5;124m\"\u001b[39m, \u001b[38;5;241m*\u001b[39m\u001b[38;5;241m*\u001b[39m\u001b[38;5;28mself\u001b[39m\u001b[38;5;241m.\u001b[39mkwargs)\n",
      "File \u001b[0;32m~/git/QK/qke/TrainableKernelFeatureMap.py:107\u001b[0m, in \u001b[0;36mTrainableKernelFeatureMap.evaluate\u001b[0;34m(self, x_vec, y_vec)\u001b[0m\n\u001b[1;32m    105\u001b[0m     \u001b[38;5;28;01mreturn\u001b[39;00m \u001b[38;5;28mself\u001b[39m\u001b[38;5;241m.\u001b[39mkernel_matrix(new_x_vec, new_y_vec)\n\u001b[1;32m    106\u001b[0m \u001b[38;5;28;01melse\u001b[39;00m:\n\u001b[0;32m--> 107\u001b[0m     \u001b[38;5;28;01mreturn\u001b[39;00m \u001b[38;5;28;43mself\u001b[39;49m\u001b[38;5;241;43m.\u001b[39;49m\u001b[43mkernel_matrix\u001b[49m\u001b[43m(\u001b[49m\u001b[43mnew_x_vec\u001b[49m\u001b[43m,\u001b[49m\u001b[43m \u001b[49m\u001b[43mnew_x_vec\u001b[49m\u001b[43m)\u001b[49m\n",
      "File \u001b[0;32m~/git/QK/qke/TrainableKernelFeatureMap.py:113\u001b[0m, in \u001b[0;36mTrainableKernelFeatureMap.kernel_matrix\u001b[0;34m(self, A, B)\u001b[0m\n\u001b[1;32m    111\u001b[0m \u001b[38;5;28;01mdef\u001b[39;00m \u001b[38;5;21mkernel_matrix\u001b[39m(\u001b[38;5;28mself\u001b[39m, A, B):\n\u001b[1;32m    112\u001b[0m     \u001b[38;5;66;03m#Compute gram matrix\u001b[39;00m\n\u001b[0;32m--> 113\u001b[0m     \u001b[38;5;28;01mreturn\u001b[39;00m np\u001b[38;5;241m.\u001b[39marray([[\u001b[38;5;28;43mself\u001b[39;49m\u001b[38;5;241;43m.\u001b[39;49m\u001b[43mqfKernel\u001b[49m\u001b[43m(\u001b[49m\u001b[43ma\u001b[49m\u001b[43m,\u001b[49m\u001b[43m \u001b[49m\u001b[43mb\u001b[49m\u001b[43m)\u001b[49m \u001b[38;5;28;01mfor\u001b[39;00m b \u001b[38;5;129;01min\u001b[39;00m B] \u001b[38;5;28;01mfor\u001b[39;00m a \u001b[38;5;129;01min\u001b[39;00m A])\n",
      "File \u001b[0;32m~/git/QK/qke/TrainableKernelFeatureMap.py:78\u001b[0m, in \u001b[0;36mTrainableKernelFeatureMap.qfKernel\u001b[0;34m(self, x1, x2)\u001b[0m\n\u001b[1;32m     76\u001b[0m \u001b[38;5;28;01melse\u001b[39;00m:\n\u001b[1;32m     77\u001b[0m     x1_qc \u001b[38;5;241m=\u001b[39m \u001b[38;5;28mself\u001b[39m\u001b[38;5;241m.\u001b[39mqEncoding(x1)        \n\u001b[0;32m---> 78\u001b[0m     x1_fm \u001b[38;5;241m=\u001b[39m \u001b[38;5;28;43mself\u001b[39;49m\u001b[38;5;241;43m.\u001b[39;49m\u001b[43mq_measure\u001b[49m\u001b[43m(\u001b[49m\u001b[43mx1_qc\u001b[49m\u001b[43m,\u001b[49m\u001b[43m \u001b[49m\u001b[43mobservables\u001b[49m\u001b[38;5;241;43m=\u001b[39;49m\u001b[38;5;28;43mself\u001b[39;49m\u001b[38;5;241;43m.\u001b[39;49m\u001b[43mobs\u001b[49m\u001b[43m,\u001b[49m\u001b[43m \u001b[49m\u001b[43mnshots\u001b[49m\u001b[38;5;241;43m=\u001b[39;49m\u001b[38;5;28;43mself\u001b[39;49m\u001b[38;5;241;43m.\u001b[39;49m\u001b[43mnshots\u001b[49m\u001b[43m)\u001b[49m\n\u001b[1;32m     79\u001b[0m     \u001b[38;5;28mself\u001b[39m\u001b[38;5;241m.\u001b[39mfm_dict[k_x1] \u001b[38;5;241m=\u001b[39m x1_fm\n\u001b[1;32m     81\u001b[0m \u001b[38;5;66;03m#check the k2 and get feature map\u001b[39;00m\n",
      "File \u001b[0;32m~/git/QK/qke/QMeasures.py:61\u001b[0m, in \u001b[0;36mQMeasures.StateVectorEstimator\u001b[0;34m(qc, observables, **kargs)\u001b[0m\n\u001b[1;32m     58\u001b[0m obs \u001b[38;5;241m=\u001b[39m [SparsePauliOp(label) \u001b[38;5;28;01mfor\u001b[39;00m label \u001b[38;5;129;01min\u001b[39;00m observables]\n\u001b[1;32m     60\u001b[0m pub \u001b[38;5;241m=\u001b[39m (qc, obs)\n\u001b[0;32m---> 61\u001b[0m job \u001b[38;5;241m=\u001b[39m \u001b[43mestimator\u001b[49m\u001b[38;5;241;43m.\u001b[39;49m\u001b[43mrun\u001b[49m\u001b[43m(\u001b[49m\u001b[43m[\u001b[49m\u001b[43mpub\u001b[49m\u001b[43m]\u001b[49m\u001b[43m)\u001b[49m\n\u001b[1;32m     62\u001b[0m result \u001b[38;5;241m=\u001b[39m job\u001b[38;5;241m.\u001b[39mresult()[\u001b[38;5;241m0\u001b[39m]\n\u001b[1;32m     63\u001b[0m \u001b[38;5;28;01mreturn\u001b[39;00m result\u001b[38;5;241m.\u001b[39mdata\u001b[38;5;241m.\u001b[39mevs\n",
      "File \u001b[0;32m~/git/QK/.venv/lib/python3.12/site-packages/qiskit/primitives/statevector_estimator.py:132\u001b[0m, in \u001b[0;36mStatevectorEstimator.run\u001b[0;34m(self, pubs, precision)\u001b[0m\n\u001b[1;32m    130\u001b[0m \u001b[38;5;28;01mif\u001b[39;00m precision \u001b[38;5;129;01mis\u001b[39;00m \u001b[38;5;28;01mNone\u001b[39;00m:\n\u001b[1;32m    131\u001b[0m     precision \u001b[38;5;241m=\u001b[39m \u001b[38;5;28mself\u001b[39m\u001b[38;5;241m.\u001b[39m_default_precision\n\u001b[0;32m--> 132\u001b[0m coerced_pubs \u001b[38;5;241m=\u001b[39m [\u001b[43mEstimatorPub\u001b[49m\u001b[38;5;241;43m.\u001b[39;49m\u001b[43mcoerce\u001b[49m\u001b[43m(\u001b[49m\u001b[43mpub\u001b[49m\u001b[43m,\u001b[49m\u001b[43m \u001b[49m\u001b[43mprecision\u001b[49m\u001b[43m)\u001b[49m \u001b[38;5;28;01mfor\u001b[39;00m pub \u001b[38;5;129;01min\u001b[39;00m pubs]\n\u001b[1;32m    134\u001b[0m job \u001b[38;5;241m=\u001b[39m PrimitiveJob(\u001b[38;5;28mself\u001b[39m\u001b[38;5;241m.\u001b[39m_run, coerced_pubs)\n\u001b[1;32m    135\u001b[0m job\u001b[38;5;241m.\u001b[39m_submit()\n",
      "File \u001b[0;32m~/git/QK/.venv/lib/python3.12/site-packages/qiskit/primitives/containers/estimator_pub.py:153\u001b[0m, in \u001b[0;36mEstimatorPub.coerce\u001b[0;34m(cls, pub, precision)\u001b[0m\n\u001b[1;32m    150\u001b[0m \u001b[38;5;28;01mif\u001b[39;00m \u001b[38;5;28mlen\u001b[39m(pub) \u001b[38;5;241m>\u001b[39m \u001b[38;5;241m3\u001b[39m \u001b[38;5;129;01mand\u001b[39;00m pub[\u001b[38;5;241m3\u001b[39m] \u001b[38;5;129;01mis\u001b[39;00m \u001b[38;5;129;01mnot\u001b[39;00m \u001b[38;5;28;01mNone\u001b[39;00m:\n\u001b[1;32m    151\u001b[0m     precision \u001b[38;5;241m=\u001b[39m pub[\u001b[38;5;241m3\u001b[39m]\n\u001b[0;32m--> 153\u001b[0m \u001b[38;5;28;01mreturn\u001b[39;00m \u001b[38;5;28;43mcls\u001b[39;49m\u001b[43m(\u001b[49m\n\u001b[1;32m    154\u001b[0m \u001b[43m    \u001b[49m\u001b[43mcircuit\u001b[49m\u001b[38;5;241;43m=\u001b[39;49m\u001b[43mcircuit\u001b[49m\u001b[43m,\u001b[49m\n\u001b[1;32m    155\u001b[0m \u001b[43m    \u001b[49m\u001b[43mobservables\u001b[49m\u001b[38;5;241;43m=\u001b[39;49m\u001b[43mobservables\u001b[49m\u001b[43m,\u001b[49m\n\u001b[1;32m    156\u001b[0m \u001b[43m    \u001b[49m\u001b[43mparameter_values\u001b[49m\u001b[38;5;241;43m=\u001b[39;49m\u001b[43mparameter_values\u001b[49m\u001b[43m,\u001b[49m\n\u001b[1;32m    157\u001b[0m \u001b[43m    \u001b[49m\u001b[43mprecision\u001b[49m\u001b[38;5;241;43m=\u001b[39;49m\u001b[43mprecision\u001b[49m\u001b[43m,\u001b[49m\n\u001b[1;32m    158\u001b[0m \u001b[43m    \u001b[49m\u001b[43mvalidate\u001b[49m\u001b[38;5;241;43m=\u001b[39;49m\u001b[38;5;28;43;01mTrue\u001b[39;49;00m\u001b[43m,\u001b[49m\n\u001b[1;32m    159\u001b[0m \u001b[43m\u001b[49m\u001b[43m)\u001b[49m\n",
      "File \u001b[0;32m~/git/QK/.venv/lib/python3.12/site-packages/qiskit/primitives/containers/estimator_pub.py:85\u001b[0m, in \u001b[0;36mEstimatorPub.__init__\u001b[0;34m(self, circuit, observables, parameter_values, precision, validate)\u001b[0m\n\u001b[1;32m     79\u001b[0m     \u001b[38;5;28;01mraise\u001b[39;00m \u001b[38;5;167;01mValueError\u001b[39;00m(\n\u001b[1;32m     80\u001b[0m         \u001b[38;5;124mf\u001b[39m\u001b[38;5;124m\"\u001b[39m\u001b[38;5;124mThe observables shape \u001b[39m\u001b[38;5;132;01m{\u001b[39;00m\u001b[38;5;28mself\u001b[39m\u001b[38;5;241m.\u001b[39mobservables\u001b[38;5;241m.\u001b[39mshape\u001b[38;5;132;01m}\u001b[39;00m\u001b[38;5;124m and the \u001b[39m\u001b[38;5;124m\"\u001b[39m\n\u001b[1;32m     81\u001b[0m         \u001b[38;5;124mf\u001b[39m\u001b[38;5;124m\"\u001b[39m\u001b[38;5;124mparameter values shape \u001b[39m\u001b[38;5;132;01m{\u001b[39;00m\u001b[38;5;28mself\u001b[39m\u001b[38;5;241m.\u001b[39mparameter_values\u001b[38;5;241m.\u001b[39mshape\u001b[38;5;132;01m}\u001b[39;00m\u001b[38;5;124m are not broadcastable.\u001b[39m\u001b[38;5;124m\"\u001b[39m\n\u001b[1;32m     82\u001b[0m     ) \u001b[38;5;28;01mfrom\u001b[39;00m \u001b[38;5;21;01mex\u001b[39;00m\n\u001b[1;32m     84\u001b[0m \u001b[38;5;28;01mif\u001b[39;00m validate:\n\u001b[0;32m---> 85\u001b[0m     \u001b[38;5;28;43mself\u001b[39;49m\u001b[38;5;241;43m.\u001b[39;49m\u001b[43mvalidate\u001b[49m\u001b[43m(\u001b[49m\u001b[43m)\u001b[49m\n",
      "File \u001b[0;32m~/git/QK/.venv/lib/python3.12/site-packages/qiskit/primitives/containers/estimator_pub.py:179\u001b[0m, in \u001b[0;36mEstimatorPub.validate\u001b[0;34m(self)\u001b[0m\n\u001b[1;32m    177\u001b[0m     num_qubits \u001b[38;5;241m=\u001b[39m \u001b[38;5;28mlen\u001b[39m(\u001b[38;5;28mnext\u001b[39m(\u001b[38;5;28miter\u001b[39m(observable)))\n\u001b[1;32m    178\u001b[0m     \u001b[38;5;28;01mif\u001b[39;00m \u001b[38;5;28mself\u001b[39m\u001b[38;5;241m.\u001b[39mcircuit\u001b[38;5;241m.\u001b[39mnum_qubits \u001b[38;5;241m!=\u001b[39m num_qubits:\n\u001b[0;32m--> 179\u001b[0m         \u001b[38;5;28;01mraise\u001b[39;00m \u001b[38;5;167;01mValueError\u001b[39;00m(\n\u001b[1;32m    180\u001b[0m             \u001b[38;5;124mf\u001b[39m\u001b[38;5;124m\"\u001b[39m\u001b[38;5;124mThe number of qubits of the circuit (\u001b[39m\u001b[38;5;132;01m{\u001b[39;00m\u001b[38;5;28mself\u001b[39m\u001b[38;5;241m.\u001b[39mcircuit\u001b[38;5;241m.\u001b[39mnum_qubits\u001b[38;5;132;01m}\u001b[39;00m\u001b[38;5;124m) does \u001b[39m\u001b[38;5;124m\"\u001b[39m\n\u001b[1;32m    181\u001b[0m             \u001b[38;5;124mf\u001b[39m\u001b[38;5;124m\"\u001b[39m\u001b[38;5;124mnot match the number of qubits of the \u001b[39m\u001b[38;5;132;01m{\u001b[39;00mi\u001b[38;5;132;01m}\u001b[39;00m\u001b[38;5;124m-th observable (\u001b[39m\u001b[38;5;132;01m{\u001b[39;00mnum_qubits\u001b[38;5;132;01m}\u001b[39;00m\u001b[38;5;124m).\u001b[39m\u001b[38;5;124m\"\u001b[39m\n\u001b[1;32m    182\u001b[0m         )\n\u001b[1;32m    184\u001b[0m \u001b[38;5;66;03m# Cross validate circuits and parameter_values\u001b[39;00m\n\u001b[1;32m    185\u001b[0m num_parameters \u001b[38;5;241m=\u001b[39m \u001b[38;5;28mself\u001b[39m\u001b[38;5;241m.\u001b[39mparameter_values\u001b[38;5;241m.\u001b[39mnum_parameters\n",
      "\u001b[0;31mValueError\u001b[0m: The number of qubits of the circuit (3) does not match the number of qubits of the (0,)-th observable (6)."
     ]
    }
   ],
   "source": [
    "#******* Trainaing the kernel\n",
    "#get time\n",
    "import time\n",
    "from sklearn.metrics import accuracy_score\n",
    "from qiskit_machine_learning.kernels.algorithms.quantum_kernel_trainer import QuantumKernelTrainer\n",
    "\n",
    "\n",
    "training_kernel_start = time.time()\n",
    "\n",
    "qk_trainer = QuantumKernelTrainer(quantum_kernel=q_kernel, loss=loss_func, initial_point= init_point, optimizer=spsa_opt)\n",
    "qkt_results = qk_trainer.fit(X_train, y_train)\n",
    "optimized_kernel = qkt_results.quantum_kernel\n",
    "\n",
    "training_kernel_end = time.time()\n",
    "\n",
    "print(f'Time kernel training: {training_kernel_end - training_kernel_start} seconds.')\n",
    "\n"
   ]
  },
  {
   "cell_type": "code",
   "execution_count": null,
   "metadata": {},
   "outputs": [],
   "source": [
    "#TRAINING SVC\n",
    "#using optimezed kernel in QSVC\n",
    "from qiskit_machine_learning.algorithms.classifiers import QSVC\n",
    "\n",
    "qsvc = QSVC(quantum_kernel=optimized_kernel)\n",
    "\n",
    "#get time\n",
    "training_svm_start = time.time()\n",
    "\n",
    "qsvc.fit(X_train, y_train)\n",
    "\n",
    "#get time training\n",
    "training_svm_end = time.time()\n",
    "\n",
    "#result...\n",
    "predictions = qsvc.predict(X_test)\n",
    "score = accuracy_score(predictions, y_test)\n",
    "\n",
    "#final time (trainign + predict)\n",
    "jobs_final_time = time.time()\n",
    "\n",
    "print(f'*******SCORE: {score}')\n",
    "print(f'Time training SVM: {training_svm_end - training_svm_start} seconds.')\n",
    "print(f'Total jobs time: {jobs_final_time - training_kernel_start} seconds.')"
   ]
  }
 ],
 "metadata": {
  "kernelspec": {
   "display_name": ".venv",
   "language": "python",
   "name": "python3"
  },
  "language_info": {
   "codemirror_mode": {
    "name": "ipython",
    "version": 3
   },
   "file_extension": ".py",
   "mimetype": "text/x-python",
   "name": "python",
   "nbconvert_exporter": "python",
   "pygments_lexer": "ipython3",
   "version": "3.12.3"
  }
 },
 "nbformat": 4,
 "nbformat_minor": 2
}
